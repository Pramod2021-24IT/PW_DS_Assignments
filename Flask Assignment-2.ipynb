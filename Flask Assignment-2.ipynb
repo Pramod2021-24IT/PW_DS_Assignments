{
 "cells": [
  {
   "cell_type": "markdown",
   "id": "bb456165-b702-4278-92bd-060354bc885a",
   "metadata": {},
   "source": [
    "### Q1. Explain GET and POST methods."
   ]
  },
  {
   "cell_type": "markdown",
   "id": "c6707416-630d-4309-b791-21fb4fbd7ac7",
   "metadata": {},
   "source": [
    "#### GET Method\n",
    "- **Purpose**: Used to request data from a specified resource.\n",
    "- **Usage**: Typically used for retrieving data from the server.\n",
    "- **Characteristics**:\n",
    "  - Appends data to the URL as query parameters.\n",
    "  - Can be bookmarked.\n",
    "  - Limited in the amount of data that can be sent (URL length restrictions).\n",
    "  - Data sent is visible in the URL, making it less secure for sensitive information.\n",
    "  - Safe and idempotent (multiple identical requests have the same effect as a single request).\n",
    "\n",
    "#### POST Method\n",
    "- **Purpose**: Used to send data to a server to create/update a resource.\n",
    "- **Usage**: Typically used for submitting form data or uploading files.\n",
    "- **Characteristics**:\n",
    "  - Sends data in the request body, not visible in the URL.\n",
    "  - Not limited by URL length, allowing larger amounts of data to be sent.\n",
    "  - Cannot be bookmarked.\n",
    "  - More secure for transmitting sensitive data, especially when used with HTTPS.\n",
    "  - Not idempotent (multiple identical requests may have different effects)."
   ]
  },
  {
   "cell_type": "markdown",
   "id": "89467a04-cb53-4989-9223-55c3f75831e8",
   "metadata": {},
   "source": [
    "### Q2. Why is request used in Flask?"
   ]
  },
  {
   "cell_type": "markdown",
   "id": "c130761b-aca1-47ce-afa7-03a79a5dbb07",
   "metadata": {},
   "source": [
    "In Flask, the `request` object is used to access and handle data sent by the client to the server. It is part of Flask's `flask` module and provides methods and attributes for working with HTTP request data, including:\n",
    "\n",
    "- **Form Data**: Accessing data submitted via HTML forms.\n",
    "- **Query Parameters**: Retrieving data sent in the URL query string.\n",
    "- **Headers**: Accessing HTTP headers sent with the request.\n",
    "- **Cookies**: Retrieving cookies sent by the client.\n",
    "- **File Uploads**: Handling file uploads from forms.\n",
    "- **Request Method**: Determining the HTTP method (GET, POST, etc.) used in the request.\n"
   ]
  },
  {
   "cell_type": "markdown",
   "id": "ccec1776-68b2-4a08-9cac-93fb33e0cf60",
   "metadata": {},
   "source": [
    "### Q3. Why is redirect() used in Flask?"
   ]
  },
  {
   "cell_type": "markdown",
   "id": "1d146039-faff-4061-9030-dc9613b58954",
   "metadata": {},
   "source": [
    "In Flask, the `redirect()` function is used to send a response to the client that redirects them to a different URL. This is useful for:\n",
    "\n",
    "1. **Handling Form Submissions**: Redirecting users to a different page after successfully submitting a form to avoid resubmission on refresh.\n",
    "2. **URL Redirection**: Redirecting users to another route or external URL.\n",
    "3. **Simplifying URLs**: Redirecting from an old URL to a new URL to maintain SEO or user experience.\n"
   ]
  },
  {
   "cell_type": "markdown",
   "id": "63a174af-ed87-4a82-ac77-e5100f286d4d",
   "metadata": {},
   "source": [
    "### Q4. What are templates in Flask? Why is the render_template() function used?"
   ]
  },
  {
   "cell_type": "markdown",
   "id": "25d6558d-c933-4b04-8e50-9b3a0a8d015b",
   "metadata": {},
   "source": [
    "### Templates in Flask\n",
    "Templates in Flask are files that contain static data as well as placeholders for dynamic data. They are typically used to generate HTML pages by combining static content with dynamic data from the server.\n",
    "\n",
    "### Why Use `render_template()`?\n",
    "The `render_template()` function in Flask is used to render these templates. It takes the name of the template file and any variables to be passed to the template, allowing dynamic content to be inserted into the static HTML structure.\n",
    "\n"
   ]
  },
  {
   "cell_type": "markdown",
   "id": "99d01d7c-1a7a-458f-8b88-289c609865ec",
   "metadata": {},
   "source": [
    "### Q5. Create a simple API. Use Postman to test it. Attach the screenshot of the output in the Jupyter Notebook."
   ]
  },
  {
   "cell_type": "code",
   "execution_count": 3,
   "id": "0654bf72-d37c-4c0a-a304-a93335f0b5b3",
   "metadata": {},
   "outputs": [
    {
     "name": "stdout",
     "output_type": "stream",
     "text": [
      " * Serving Flask app '__main__'\n",
      " * Debug mode: on\n"
     ]
    },
    {
     "name": "stderr",
     "output_type": "stream",
     "text": [
      "WARNING: This is a development server. Do not use it in a production deployment. Use a production WSGI server instead.\n",
      " * Running on http://127.0.0.1:5000\n",
      "Press CTRL+C to quit\n",
      " * Restarting with watchdog (windowsapi)\n"
     ]
    },
    {
     "ename": "SystemExit",
     "evalue": "1",
     "output_type": "error",
     "traceback": [
      "An exception has occurred, use %tb to see the full traceback.\n",
      "\u001b[1;31mSystemExit\u001b[0m\u001b[1;31m:\u001b[0m 1\n"
     ]
    },
    {
     "name": "stderr",
     "output_type": "stream",
     "text": [
      "D:\\Softwares\\Lib\\site-packages\\IPython\\core\\interactiveshell.py:3585: UserWarning: To exit: use 'exit', 'quit', or Ctrl-D.\n",
      "  warn(\"To exit: use 'exit', 'quit', or Ctrl-D.\", stacklevel=1)\n"
     ]
    }
   ],
   "source": [
    "from flask import Flask, jsonify, request\n",
    "\n",
    "app = Flask(__name__)\n",
    "\n",
    "@app.route('/api/greet', methods=['GET'])\n",
    "def greet():\n",
    "    name = request.args.get('name', 'World')\n",
    "    return jsonify(message=f'Hello, {name}!')\n",
    "\n",
    "if __name__ == '__main__':\n",
    "    app.run(debug=True)\n"
   ]
  },
  {
   "cell_type": "code",
   "execution_count": null,
   "id": "15e3edeb-df73-4534-a91b-74d3ddd0da8b",
   "metadata": {},
   "outputs": [],
   "source": []
  }
 ],
 "metadata": {
  "kernelspec": {
   "display_name": "Python 3 (ipykernel)",
   "language": "python",
   "name": "python3"
  },
  "language_info": {
   "codemirror_mode": {
    "name": "ipython",
    "version": 3
   },
   "file_extension": ".py",
   "mimetype": "text/x-python",
   "name": "python",
   "nbconvert_exporter": "python",
   "pygments_lexer": "ipython3",
   "version": "3.12.4"
  }
 },
 "nbformat": 4,
 "nbformat_minor": 5
}
