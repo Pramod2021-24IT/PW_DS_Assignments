{
 "cells": [
  {
   "cell_type": "markdown",
   "id": "a3a3209f-b122-4948-bd94-e75681d696bb",
   "metadata": {},
   "source": [
    "### Q1. Create a Pandas Series that contains the following data: 4, 8, 15, 16, 23, and 42. Then, print the series."
   ]
  },
  {
   "cell_type": "code",
   "execution_count": 1,
   "id": "3a8e8e5a-b354-4698-94b7-63d8293183ae",
   "metadata": {},
   "outputs": [
    {
     "name": "stdout",
     "output_type": "stream",
     "text": [
      "0     4\n",
      "1     8\n",
      "2    15\n",
      "3    16\n",
      "4    23\n",
      "5    42\n",
      "dtype: int64\n"
     ]
    }
   ],
   "source": [
    "import pandas as pd\n",
    "\n",
    "data = [4, 8, 15, 16, 23, 42]\n",
    "series = pd.Series(data)\n",
    "\n",
    "print(series)\n"
   ]
  },
  {
   "cell_type": "markdown",
   "id": "66bcdca7-834b-40ec-b48a-bd2449c1c9ca",
   "metadata": {},
   "source": [
    "### Q2. Create a variable of list type containing 10 elements in it, and apply pandas.Series function on the variable print it."
   ]
  },
  {
   "cell_type": "code",
   "execution_count": 2,
   "id": "c4ba2e5b-0bfc-4276-9072-2136fc32d8af",
   "metadata": {},
   "outputs": [
    {
     "name": "stdout",
     "output_type": "stream",
     "text": [
      "0     10\n",
      "1     20\n",
      "2     30\n",
      "3     40\n",
      "4     50\n",
      "5     60\n",
      "6     70\n",
      "7     80\n",
      "8     90\n",
      "9    100\n",
      "dtype: int64\n"
     ]
    }
   ],
   "source": [
    "import pandas as pd\n",
    "\n",
    "my_list = [10, 20, 30, 40, 50, 60, 70, 80, 90, 100]\n",
    "\n",
    "series = pd.Series(my_list)\n",
    "\n",
    "print(series)\n"
   ]
  },
  {
   "cell_type": "markdown",
   "id": "bad9e5e7-fd28-4027-9edf-5622269e1055",
   "metadata": {},
   "source": [
    "### Q3. Create a Pandas DataFrame- "
   ]
  },
  {
   "cell_type": "code",
   "execution_count": 3,
   "id": "3226bac6-5db9-49d4-b654-6d305e870f90",
   "metadata": {},
   "outputs": [
    {
     "name": "stdout",
     "output_type": "stream",
     "text": [
      "     Name  Age  Gender\n",
      "0   Alice   25  Female\n",
      "1     Bob   30    Male\n",
      "2  Claire   27  Female\n"
     ]
    }
   ],
   "source": [
    "import pandas as pd\n",
    "\n",
    "# Creating a dictionary with the data\n",
    "data = {\n",
    "    'Name': ['Alice', 'Bob', 'Claire'],\n",
    "    'Age': [25, 30, 27],\n",
    "    'Gender': ['Female', 'Male', 'Female']\n",
    "}\n",
    "\n",
    "# Converting the dictionary to a DataFrame\n",
    "df = pd.DataFrame(data)\n",
    "\n",
    "# Printing the DataFrame\n",
    "print(df)\n"
   ]
  },
  {
   "cell_type": "markdown",
   "id": "a948694a-d3f7-4770-b836-e857148926e3",
   "metadata": {},
   "source": [
    "### Q4. What is ‘DataFrame’ in pandas and how is it different from pandas.series? Explain with an example."
   ]
  },
  {
   "cell_type": "markdown",
   "id": "8dfd2e0e-7d96-4aa7-afd2-df8e992e44ec",
   "metadata": {},
   "source": [
    "#### DataFrame in Pandas\n",
    "\n",
    "A `DataFrame` in Pandas is a two-dimensional, size-mutable, and potentially heterogeneous tabular data structure with labeled axes (rows and columns). It can be thought of as a collection of `Series` objects that share the same index.\n",
    "\n",
    "#### Series in Pandas\n",
    "\n",
    "A `Series` in Pandas is a one-dimensional array-like object containing a sequence of values and an associated array of data labels, called its index. \n",
    "\n",
    "#### Key Differences\n",
    "\n",
    "1. **Dimensions**:\n",
    "   - `Series`: One-dimensional.\n",
    "   - `DataFrame`: Two-dimensional.\n",
    "\n",
    "2. **Data Structure**:\n",
    "   - `Series`: Similar to a single column in a table.\n",
    "   - `DataFrame`: Similar to a table with multiple columns.\n",
    "\n",
    "3. **Homogeneity**:\n",
    "   - `Series`: Can hold any data type (integers, strings, floats, etc.).\n",
    "   - `DataFrame`: Can hold multiple data types across different columns.\n"
   ]
  },
  {
   "cell_type": "markdown",
   "id": "6e53cbd3-22f8-4ea6-8faa-68d766437dc3",
   "metadata": {},
   "source": [
    "### Q5. What are some common functions you can use to manipulate data in a Pandas DataFrame? Can you give an example of when you might use one of these functions?"
   ]
  },
  {
   "cell_type": "markdown",
   "id": "9e8eb9f6-7112-4497-9386-ed8f6f917006",
   "metadata": {},
   "source": [
    "#### Common Functions for Manipulating Data in Pandas DataFrame:\r\n",
    "\r\n",
    "1. **`head()` and `tail()`**: Display the first or last few rows.\r\n",
    "2. **`info()`**: Get a concise summary of the DataFrame.\r\n",
    "3. **`describe()`**: Generate descriptive statistics.\r\n",
    "4. **`drop()`**: Remove rows or columns.\r\n",
    "5. **`dropna()`**: Remove missing values.\r\n",
    "6. **`fillna()`**: Fill missing values with a specified value.\r\n",
    "7. **`groupby()`**: Group the DataFrame using a mapper or by a Series of columns.\r\n",
    "8. **`apply()`**: Apply a function along an axis of the DataFrame.\r\n",
    "9. **`merge()`**: Merge DataFrames using a database-style join.\r\n",
    "10. **`pivot_table()`**: Create a spreadsheet-style pivot table as a DataFrame."
   ]
  },
  {
   "cell_type": "code",
   "execution_count": 6,
   "id": "d507255b-3ca3-4876-9e78-76f478a0f539",
   "metadata": {},
   "outputs": [
    {
     "name": "stdout",
     "output_type": "stream",
     "text": [
      "    Name   Age              Email\n",
      "0  Alice  25.0  alice@example.com\n",
      "3  David  22.0  david@example.com\n"
     ]
    }
   ],
   "source": [
    "# Example Use Case: Cleaning Data with 'dropna()'\n",
    "import pandas as pd\n",
    "\n",
    "# Example DataFrame\n",
    "data = {\n",
    "    'Name': ['Alice', 'Bob', 'Claire', 'David'],\n",
    "    'Age': [25, 30, None, 22],\n",
    "    'Email': ['alice@example.com', None, 'claire@example.com', 'david@example.com']\n",
    "}\n",
    "\n",
    "df = pd.DataFrame(data)\n",
    "\n",
    "# Remove rows with missing values\n",
    "df.dropna(inplace=True)\n",
    "print(df)\n"
   ]
  },
  {
   "cell_type": "markdown",
   "id": "df9e703e-50c3-421b-975a-5872f7dd7b25",
   "metadata": {},
   "source": [
    "#### Q6. Which of the following is mutable in nature Series, DataFrame, Panel?"
   ]
  },
  {
   "cell_type": "markdown",
   "id": "484b5284-c96f-4fb4-a93a-b3ed9316e5ae",
   "metadata": {},
   "source": [
    "Both Pandas **Series** and **DataFrame** are mutable in nature, meaning you can modify their content after they are created.\n",
    "\n",
    "However, **Panel** is deprecated and no longer used in modern versions of Pandas. In older versions, Panel was also mutable."
   ]
  },
  {
   "cell_type": "markdown",
   "id": "b4146d40-2061-4611-9f98-78267b4c678c",
   "metadata": {},
   "source": [
    "### Q7. Create a DataFrame using multiple Series. Explain with an example."
   ]
  },
  {
   "cell_type": "code",
   "execution_count": 7,
   "id": "b810c2d5-3761-4631-a50f-a904f60e1458",
   "metadata": {},
   "outputs": [
    {
     "name": "stdout",
     "output_type": "stream",
     "text": [
      "     Name  Age  Gender\n",
      "0   Alice   25  Female\n",
      "1     Bob   30    Male\n",
      "2  Claire   27  Female\n"
     ]
    }
   ],
   "source": [
    "import pandas as pd\n",
    "\n",
    "# Create individual Series\n",
    "names = pd.Series([\"Alice\", \"Bob\", \"Claire\"])\n",
    "ages = pd.Series([25, 30, 27])\n",
    "genders = pd.Series([\"Female\", \"Male\", \"Female\"])\n",
    "\n",
    "# Combine Series into a DataFrame\n",
    "data = {\n",
    "    \"Name\": names,\n",
    "    \"Age\": ages,\n",
    "    \"Gender\": genders\n",
    "}\n",
    "\n",
    "df = pd.DataFrame(data)\n",
    "\n",
    "# Print the DataFrame\n",
    "print(df)\n"
   ]
  },
  {
   "cell_type": "code",
   "execution_count": null,
   "id": "492ef907-018c-433c-b6af-0bff7f226238",
   "metadata": {},
   "outputs": [],
   "source": []
  }
 ],
 "metadata": {
  "kernelspec": {
   "display_name": "Python 3 (ipykernel)",
   "language": "python",
   "name": "python3"
  },
  "language_info": {
   "codemirror_mode": {
    "name": "ipython",
    "version": 3
   },
   "file_extension": ".py",
   "mimetype": "text/x-python",
   "name": "python",
   "nbconvert_exporter": "python",
   "pygments_lexer": "ipython3",
   "version": "3.12.4"
  }
 },
 "nbformat": 4,
 "nbformat_minor": 5
}
