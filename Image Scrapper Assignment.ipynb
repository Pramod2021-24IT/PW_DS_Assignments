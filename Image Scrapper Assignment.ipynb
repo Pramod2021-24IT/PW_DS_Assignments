{
 "cells": [
  {
   "cell_type": "code",
   "execution_count": 1,
   "id": "c050c6f4-dccb-4dc2-8fed-9eace5fb011e",
   "metadata": {},
   "outputs": [
    {
     "name": "stdout",
     "output_type": "stream",
     "text": [
      "Requirement already satisfied: requests in d:\\softwares\\lib\\site-packages (2.32.2)\n",
      "Requirement already satisfied: beautifulsoup4 in d:\\softwares\\lib\\site-packages (4.12.3)\n",
      "Requirement already satisfied: pandas in d:\\softwares\\lib\\site-packages (2.2.2)\n",
      "Requirement already satisfied: flask in d:\\softwares\\lib\\site-packages (3.0.3)\n",
      "Requirement already satisfied: charset-normalizer<4,>=2 in d:\\softwares\\lib\\site-packages (from requests) (2.0.4)\n",
      "Requirement already satisfied: idna<4,>=2.5 in d:\\softwares\\lib\\site-packages (from requests) (3.7)\n",
      "Requirement already satisfied: urllib3<3,>=1.21.1 in d:\\softwares\\lib\\site-packages (from requests) (2.2.2)\n",
      "Requirement already satisfied: certifi>=2017.4.17 in d:\\softwares\\lib\\site-packages (from requests) (2024.6.2)\n",
      "Requirement already satisfied: soupsieve>1.2 in d:\\softwares\\lib\\site-packages (from beautifulsoup4) (2.5)\n",
      "Requirement already satisfied: numpy>=1.26.0 in d:\\softwares\\lib\\site-packages (from pandas) (1.26.4)\n",
      "Requirement already satisfied: python-dateutil>=2.8.2 in d:\\softwares\\lib\\site-packages (from pandas) (2.9.0.post0)\n",
      "Requirement already satisfied: pytz>=2020.1 in d:\\softwares\\lib\\site-packages (from pandas) (2024.1)\n",
      "Requirement already satisfied: tzdata>=2022.7 in d:\\softwares\\lib\\site-packages (from pandas) (2023.3)\n",
      "Requirement already satisfied: Werkzeug>=3.0.0 in d:\\softwares\\lib\\site-packages (from flask) (3.0.3)\n",
      "Requirement already satisfied: Jinja2>=3.1.2 in d:\\softwares\\lib\\site-packages (from flask) (3.1.4)\n",
      "Requirement already satisfied: itsdangerous>=2.1.2 in d:\\softwares\\lib\\site-packages (from flask) (2.2.0)\n",
      "Requirement already satisfied: click>=8.1.3 in d:\\softwares\\lib\\site-packages (from flask) (8.1.7)\n",
      "Requirement already satisfied: blinker>=1.6.2 in d:\\softwares\\lib\\site-packages (from flask) (1.6.2)\n",
      "Requirement already satisfied: colorama in d:\\softwares\\lib\\site-packages (from click>=8.1.3->flask) (0.4.6)\n",
      "Requirement already satisfied: MarkupSafe>=2.0 in d:\\softwares\\lib\\site-packages (from Jinja2>=3.1.2->flask) (2.1.3)\n",
      "Requirement already satisfied: six>=1.5 in d:\\softwares\\lib\\site-packages (from python-dateutil>=2.8.2->pandas) (1.16.0)\n",
      "Note: you may need to restart the kernel to use updated packages.\n"
     ]
    }
   ],
   "source": [
    "pip install requests beautifulsoup4 pandas flask\n"
   ]
  },
  {
   "cell_type": "code",
   "execution_count": 2,
   "id": "6d335111-a8eb-43e4-865f-de5db21f1f23",
   "metadata": {},
   "outputs": [],
   "source": [
    "import requests\n",
    "from bs4 import BeautifulSoup\n",
    "import pandas as pd\n",
    "\n",
    "# Function to extract video details\n",
    "def get_video_details():\n",
    "    url = \"https://www.youtube.com/@PW-Foundation/videos\"\n",
    "    response = requests.get(url)\n",
    "    soup = BeautifulSoup(response.text, 'html.parser')\n",
    "\n",
    "    videos = soup.find_all('a', {'id': 'video-title'}, limit=5)\n",
    "    \n",
    "    video_data = []\n",
    "\n",
    "    for video in videos:\n",
    "        title = video.get('title')\n",
    "        video_url = f\"https://www.youtube.com{video.get('href')}\"\n",
    "        thumbnail_url = video.find_previous('img')['src']\n",
    "        views = video.find_next('span', {'class': 'style-scope ytd-video-meta-block'}).text\n",
    "        posted_time = video.find_next('div', {'id': 'metadata-line'}).find_all('span')[-1].text\n",
    "        \n",
    "        video_data.append({\n",
    "            \"Title\": title,\n",
    "            \"Video URL\": video_url,\n",
    "            \"Thumbnail URL\": thumbnail_url,\n",
    "            \"Views\": views,\n",
    "            \"Posted Time\": posted_time\n",
    "        })\n",
    "    \n",
    "    return video_data\n",
    "\n",
    "video_details = get_video_details()\n",
    "\n",
    "# Saving to CSV\n",
    "df = pd.DataFrame(video_details)\n",
    "df.to_csv('youtube_videos.csv', index=False)\n"
   ]
  },
  {
   "cell_type": "code",
   "execution_count": 3,
   "id": "3e282e9b-d997-4c5c-9b48-92c0808c4725",
   "metadata": {},
   "outputs": [
    {
     "name": "stdout",
     "output_type": "stream",
     "text": [
      " * Serving Flask app '__main__'\n",
      " * Debug mode: on\n"
     ]
    },
    {
     "name": "stderr",
     "output_type": "stream",
     "text": [
      "WARNING: This is a development server. Do not use it in a production deployment. Use a production WSGI server instead.\n",
      " * Running on http://127.0.0.1:5000\n",
      "Press CTRL+C to quit\n",
      " * Restarting with watchdog (windowsapi)\n"
     ]
    },
    {
     "ename": "SystemExit",
     "evalue": "1",
     "output_type": "error",
     "traceback": [
      "An exception has occurred, use %tb to see the full traceback.\n",
      "\u001b[1;31mSystemExit\u001b[0m\u001b[1;31m:\u001b[0m 1\n"
     ]
    },
    {
     "name": "stderr",
     "output_type": "stream",
     "text": [
      "D:\\Softwares\\Lib\\site-packages\\IPython\\core\\interactiveshell.py:3585: UserWarning: To exit: use 'exit', 'quit', or Ctrl-D.\n",
      "  warn(\"To exit: use 'exit', 'quit', or Ctrl-D.\", stacklevel=1)\n"
     ]
    }
   ],
   "source": [
    "from flask import Flask, render_template\n",
    "import pandas as pd\n",
    "\n",
    "app = Flask(__name__)\n",
    "\n",
    "@app.route('/')\n",
    "def home():\n",
    "    df = pd.read_csv('youtube_videos.csv')\n",
    "    videos = df.to_dict(orient='records')\n",
    "    return render_template('index.html', videos=videos)\n",
    "\n",
    "if __name__ == '__main__':\n",
    "    app.run(debug=True)\n"
   ]
  },
  {
   "cell_type": "code",
   "execution_count": null,
   "id": "f303978f-dc08-4e00-a45f-c42ddf56af96",
   "metadata": {},
   "outputs": [],
   "source": []
  }
 ],
 "metadata": {
  "kernelspec": {
   "display_name": "Python 3 (ipykernel)",
   "language": "python",
   "name": "python3"
  },
  "language_info": {
   "codemirror_mode": {
    "name": "ipython",
    "version": 3
   },
   "file_extension": ".py",
   "mimetype": "text/x-python",
   "name": "python",
   "nbconvert_exporter": "python",
   "pygments_lexer": "ipython3",
   "version": "3.12.4"
  }
 },
 "nbformat": 4,
 "nbformat_minor": 5
}
