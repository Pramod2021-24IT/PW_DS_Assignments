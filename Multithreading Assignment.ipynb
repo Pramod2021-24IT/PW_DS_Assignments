{
 "cells": [
  {
   "cell_type": "markdown",
   "id": "4d2c3c73-85da-4ae6-aeee-b6e6f01bc256",
   "metadata": {},
   "source": [
    "### Q1. What is multithreading in Python? Why is it used? Name the module used to handle threads in Python."
   ]
  },
  {
   "cell_type": "markdown",
   "id": "63bb5a7e-5c44-4be1-9cad-2bde5286c99f",
   "metadata": {},
   "source": [
    "#### Ans 1.\n",
    "**Multithreading** is a programming technique that allows a single process to execute **multiple threads** concurrently. Each thread runs independently and can perform different tasks simultaneously. Here are some key points about multithreading:\n",
    "\n",
    "1. **Threads vs. Processes**:\n",
    "   - A **process** is an instance of a computer program that is being executed. It has its own memory space, data, and execution context.\n",
    "   - A **thread** is an entity within a process that can be scheduled for execution. It's the smallest unit of processing that can run independently within an operating system.\n",
    "   - Threads within a process share the same memory space, which makes inter-thread communication more straightforward compared to inter-process communication.\n",
    "\n",
    "3. **Why Use Multithreading?**\n",
    "   - **Concurrency**: Multithreading allows you to perform multiple tasks concurrently. For example, a web server can handle multiple client requests simultaneously using threads.\n",
    "   - **Responsiveness**: In GUI applications, multithreading ensures that the user interface remains responsive even when performing time-consuming tasks (e.g., downloading files or processing data).\n",
    "   - **Resource Utilization**: On multi-core machines, multithreading can better utilize computational resources. However, due to the Global Interpreter Lock (GIL) in CPython (the standard Python interpreter), only one thread can execute Python code at a time. Therefore, multithreading is most useful for I/O-bound tasks (e.g., reading/writing files, network communication) rather than CPU-bound tasks.\n",
    "\n",
    "4. **Python's Threading Module**:\n",
    "   - The primary module for handling threads in Python is called **`threading`**.\n",
    "   - It provides a simple and intuitive API for creating, managing, and synchronizing threads.\n",
    "\n",
    "5. **Global Interpreter Lock (GIL)**:\n",
    "   - The GIL is a mutex that protects access to Python objects, preventing multiple threads from executing Python code simultaneously.\n",
    "   - Because of the GIL, Python threads are not suitable for CPU-bound tasks that require true parallelism. For CPU-bound tasks, consider using the `multiprocessing` module instead. "
   ]
  },
  {
   "cell_type": "markdown",
   "id": "b7fc4159-f4ea-4217-bf12-3e73a4da7df8",
   "metadata": {},
   "source": [
    "### Q2. Why threading module used? Write the use of the following functions- \n",
    "1. activeCount()\n",
    "2. currentThread()\n",
    "3. enumerate()"
   ]
  },
  {
   "cell_type": "markdown",
   "id": "c1780c59-33a4-47da-b91e-45309bfd66cc",
   "metadata": {},
   "source": [
    "#### A2.\n",
    "The `threading` module in Python is used to create and manage threads, which allows a program to run multiple operations concurrently in the same process. Threads are a way to achieve parallelism, which can improve the performance of applications by doing more than one operation at the same time, especially when performing I/O-bound or high-latency operations.: Returns a list of all currently active `Thread` objects.\r\n",
    "\r\n",
    "These functions are useful for debugging and managing threads, phe state of the threading environment within a Python program."
   ]
  },
  {
   "cell_type": "code",
   "execution_count": 8,
   "id": "49349bc9-0fac-4832-a3bf-1841938cc194",
   "metadata": {},
   "outputs": [
    {
     "name": "stdout",
     "output_type": "stream",
     "text": [
      "Worker thread\n",
      "Worker thread\n",
      "Worker thread\n",
      "Worker thread\n",
      "Worker thread\n",
      "Active thread count: 9\n"
     ]
    },
    {
     "name": "stderr",
     "output_type": "stream",
     "text": [
      "C:\\Users\\prem3\\AppData\\Local\\Temp\\ipykernel_19244\\927013100.py:10: DeprecationWarning: activeCount() is deprecated, use active_count() instead\n",
      "  print(\"Active thread count:\", threading.activeCount())\n"
     ]
    }
   ],
   "source": [
    "# 1. activeCount(): Returns the number of currently active threads.\n",
    "import threading\n",
    "\n",
    "def worker():\n",
    "    print(\"Worker thread\")\n",
    "\n",
    "for i in range(5):\n",
    "    threading.Thread(target=worker).start()\n",
    "\n",
    "print(\"Active thread count:\", threading.activeCount())\n"
   ]
  },
  {
   "cell_type": "code",
   "execution_count": 9,
   "id": "9c8bfd40-0e59-4cec-ba5c-121b256f160c",
   "metadata": {},
   "outputs": [
    {
     "name": "stdout",
     "output_type": "stream",
     "text": [
      "Current thread: Thread-17 (worker)\n"
     ]
    },
    {
     "name": "stderr",
     "output_type": "stream",
     "text": [
      "C:\\Users\\prem3\\AppData\\Local\\Temp\\ipykernel_19244\\781195814.py:5: DeprecationWarning: currentThread() is deprecated, use current_thread() instead\n",
      "  print(\"Current thread:\", threading.currentThread().getName())\n",
      "C:\\Users\\prem3\\AppData\\Local\\Temp\\ipykernel_19244\\781195814.py:5: DeprecationWarning: getName() is deprecated, get the name attribute instead\n",
      "  print(\"Current thread:\", threading.currentThread().getName())\n"
     ]
    }
   ],
   "source": [
    "# 2. currentThread(): Returns the Thread object representing the current thread.\n",
    "import threading\n",
    "\n",
    "def worker():\n",
    "    print(\"Current thread:\", threading.currentThread().getName())\n",
    "\n",
    "t = threading.Thread(target=worker)\n",
    "t.start()\n",
    "t.join()\n"
   ]
  },
  {
   "cell_type": "code",
   "execution_count": 10,
   "id": "970ff54a-4852-4375-b427-7834c6fce43d",
   "metadata": {},
   "outputs": [
    {
     "name": "stdout",
     "output_type": "stream",
     "text": [
      "Thread name: MainThread\n",
      "Thread name: Tornado selector\n",
      "Thread name: Tornado selector\n",
      "Thread name: IOPub\n",
      "Thread name: Heartbeat\n",
      "Thread name: Tornado selector\n",
      "Thread name: Control\n",
      "Thread name: IPythonHistorySavingThread\n",
      "Thread name: Thread-4\n",
      "Thread name: Worker-1\n",
      "Thread name: Worker-2\n",
      "Thread name: Worker-3\n"
     ]
    },
    {
     "name": "stderr",
     "output_type": "stream",
     "text": [
      "C:\\Users\\prem3\\AppData\\Local\\Temp\\ipykernel_19244\\3548657911.py:13: DeprecationWarning: getName() is deprecated, get the name attribute instead\n",
      "  print(\"Thread name:\", t.getName())\n"
     ]
    },
    {
     "name": "stdout",
     "output_type": "stream",
     "text": [
      "Worker thread\n",
      "Worker thread\n",
      "Worker thread\n"
     ]
    }
   ],
   "source": [
    "# 3. enumerate(): Returns a list of all currently active Thread objects.\n",
    "import threading\n",
    "import time\n",
    "\n",
    "def worker():\n",
    "    time.sleep(2)\n",
    "    print(\"Worker thread\")\n",
    "\n",
    "for i in range(3):\n",
    "    threading.Thread(target=worker, name=f\"Worker-{i+1}\").start()\n",
    "\n",
    "for t in threading.enumerate():\n",
    "    print(\"Thread name:\", t.getName())\n"
   ]
  },
  {
   "cell_type": "markdown",
   "id": "3d5235a8-273c-4c20-94d5-176f3dca5e5a",
   "metadata": {},
   "source": [
    "### Q3. Explain the following functions-\n",
    "1. run()\n",
    "2. start()\n",
    "3. join()\n",
    "4. isAlive()"
   ]
  },
  {
   "cell_type": "markdown",
   "id": "fddc1dd4-4509-4c18-ba53-e8940f7c5e56",
   "metadata": {},
   "source": [
    "### A3.\n"
   ]
  },
  {
   "cell_type": "code",
   "execution_count": 3,
   "id": "085e8316-3c22-456a-a091-5c1756c807b8",
   "metadata": {},
   "outputs": [
    {
     "name": "stdout",
     "output_type": "stream",
     "text": [
      "Thread is running\n"
     ]
    }
   ],
   "source": [
    "# 1. run(): Defines the thread's activity when it is started.\n",
    "import threading\n",
    "\n",
    "class MyThread(threading.Thread):\n",
    "    def run(self):\n",
    "        print(\"Thread is running\")\n",
    "\n",
    "t = MyThread()\n",
    "t.start()\n"
   ]
  },
  {
   "cell_type": "code",
   "execution_count": 4,
   "id": "ca95a766-7576-456c-bd03-7a12ac483ed0",
   "metadata": {},
   "outputs": [
    {
     "name": "stdout",
     "output_type": "stream",
     "text": [
      "Worker thread is running\n"
     ]
    }
   ],
   "source": [
    "# 2. start(): Starts the thread's activity by invoking the run() method in a separate thread.\n",
    "import threading\n",
    "\n",
    "def worker():\n",
    "    print(\"Worker thread is running\")\n",
    "\n",
    "t = threading.Thread(target=worker)\n",
    "t.start()\n"
   ]
  },
  {
   "cell_type": "code",
   "execution_count": 5,
   "id": "08c325ad-346b-4436-878d-9a80656f2df0",
   "metadata": {},
   "outputs": [
    {
     "name": "stdout",
     "output_type": "stream",
     "text": [
      "Worker thread is running\n",
      "Worker thread has finished\n"
     ]
    }
   ],
   "source": [
    "# 3. join(): Blocks the calling thread until the thread whose join() method is called terminates.\n",
    "import threading\n",
    "\n",
    "def worker():\n",
    "    print(\"Worker thread is running\")\n",
    "\n",
    "t = threading.Thread(target=worker)\n",
    "t.start()\n",
    "t.join()\n",
    "print(\"Worker thread has finished\")\n"
   ]
  },
  {
   "cell_type": "code",
   "execution_count": 7,
   "id": "be9fdb4e-7e3e-4d86-a2fd-88c334c54141",
   "metadata": {},
   "outputs": [
    {
     "name": "stdout",
     "output_type": "stream",
     "text": [
      "Is thread alive? True\n",
      "Worker thread is running\n",
      "Is thread alive after join? False\n"
     ]
    }
   ],
   "source": [
    "# 4. isAlive(): Returns True if the thread is still running, otherwise returns False.\n",
    "import threading\n",
    "import time\n",
    "\n",
    "def worker():\n",
    "    time.sleep(2)\n",
    "    print(\"Worker thread is running\")\n",
    "\n",
    "t = threading.Thread(target=worker)\n",
    "t.start()\n",
    "print(\"Is thread alive?\", t.is_alive())\n",
    "t.join()\n",
    "print(\"Is thread alive after join?\", t.is_alive())\n",
    "\n"
   ]
  },
  {
   "cell_type": "markdown",
   "id": "e48624c1-2087-48c2-80ce-59dfefdceba0",
   "metadata": {},
   "source": [
    "### Q4. Write a python program to create two threads. Thread one must print the list of squares and thread two must print the list of cubes."
   ]
  },
  {
   "cell_type": "code",
   "execution_count": 11,
   "id": "66efd2a6-6c3e-45f3-83e9-76f78a51e37e",
   "metadata": {},
   "outputs": [
    {
     "name": "stdout",
     "output_type": "stream",
     "text": [
      "Squares: [1, 4, 9, 16, 25]\n",
      "Cubes: [1, 8, 27, 64, 125]\n",
      "Both threads have finished execution.\n"
     ]
    }
   ],
   "source": [
    "# A4.\n",
    "import threading\n",
    "\n",
    "def print_squares(numbers):\n",
    "    squares = [x ** 2 for x in numbers]\n",
    "    print(f\"Squares: {squares}\")\n",
    "\n",
    "def print_cubes(numbers):\n",
    "    cubes = [x ** 3 for x in numbers]\n",
    "    print(f\"Cubes: {cubes}\")\n",
    "\n",
    "numbers = [1, 2, 3, 4, 5]\n",
    "\n",
    "# Create two threads\n",
    "thread1 = threading.Thread(target=print_squares, args=(numbers,))\n",
    "thread2 = threading.Thread(target=print_cubes, args=(numbers,))\n",
    "\n",
    "# Start the threads\n",
    "thread1.start()\n",
    "thread2.start()\n",
    "\n",
    "# Wait for both threads to complete\n",
    "thread1.join()\n",
    "thread2.join()\n",
    "\n",
    "print(\"Both threads have finished execution.\")\n"
   ]
  },
  {
   "cell_type": "markdown",
   "id": "18927ddd-6e33-46bc-9e64-257bbd1d3620",
   "metadata": {},
   "source": [
    "### Q5. State advantages and disadvantages of multithreading"
   ]
  },
  {
   "cell_type": "markdown",
   "id": "e41f1543-2413-406d-9711-b30939f503f2",
   "metadata": {},
   "source": [
    "#### A5. \n",
    "**Advantages of Multithreading**\n",
    "\n",
    "1. **Concurrency**:\n",
    "   - Enables concurrent execution of tasks, improving efficiency and performance, especially in I/O-bound or high-latency operations.\n",
    "\n",
    "2. **Resource Sharing**:\n",
    "   - Threads share the same memory space, allowing for efficient communication and data sharing between threads.\n",
    "\n",
    "3. **Responsiveness**:\n",
    "   - Enhances the responsiveness of applications, especially GUIs, by performing background tasks without freezing the main application.\n",
    "\n",
    "4. **Utilization of Multiprocessor Architectures**:\n",
    "   - Takes advantage of multiple processors or cores, leading to better throughput and performance.\n",
    "\n",
    "5. **Simplified Design**:\n",
    "   - Simplifies design for certain types of problems, such as those that involve multiple simultaneous activities (e.g., server handling multiple clients).\n",
    "\n",
    "### Disadvantages of Multithreading\n",
    "\n",
    "1. **Complexity**:\n",
    "   - Increases the complexity of program design and debugging, as it requires careful handling of concurrency issues like race conditions and deadlocks.\n",
    "\n",
    "2. **Synchronization Overhead**:\n",
    "   - Requires synchronization mechanisms to avoid conflicts, which can lead to overhead and reduced performance.\n",
    "\n",
    "3. **Resource Contention**:\n",
    "   - Threads compete for resources such as CPU and memory, which can lead to contention and performance degradation.\n",
    "\n",
    "4. **Difficulty in Testing**:\n",
    "   - Makes testing and reproducing bugs more difficult due to the non-deterministic nature of thread execution.\n",
    "\n",
    "5. **Potential for Increased Memory Usage**:\n",
    "   - Each thread has its own stack, which can increase overall memory usage, especially with a large number of threads.\n"
   ]
  },
  {
   "cell_type": "markdown",
   "id": "181eaccc-4582-47a4-90e8-a70655b0d4e4",
   "metadata": {},
   "source": [
    "### Q6. Explain deadlocks and race conditions."
   ]
  },
  {
   "cell_type": "markdown",
   "id": "e594815f-b5fa-4e8a-9d6e-36fbbb56c791",
   "metadata": {},
   "source": [
    "#### Deadlocks\n",
    "\n",
    "**Definition**: A deadlock is a situation in multithreading or multiprocessing where two or more threads are unable to proceed because each is waiting for the other to release a resource.\n",
    "\n",
    "**Key Characteristics**:\n",
    "1. **Mutual Exclusion**: At least one resource must be held in a non-shareable mode.\n",
    "2. **Hold and Wait**: A thread holding at least one resource is waiting to acquire additional resources held by other threads.\n",
    "3. **No Preemption**: Resources cannot be forcibly taken away from threads holding them.\n",
    "4. **Circular Wait**: A closed chain of threads exists, where each thread holds at least one resource and is waiting to acquire a resource held by the next thread in the chain.\n",
    "\n",
    "**Example**:\n",
    "- Thread A holds Resource 1 and waits for Resource 2.\n",
    "- Thread B holds Resource 2 and waits for Resource 1.\n",
    "- Both threads are waiting indefinitely, causing a deadlock.\n",
    "\n",
    "#### Race Conditions\n",
    "\n",
    "**Definition**: A race condition occurs when the outcome of a program depends on the sequence or timing of uncontrollable events, such as thread scheduling. It happens when multiple threads access shared data and try to change it simultaneously without proper synchronization.\n",
    "\n",
    "**Key Characteristics**:\n",
    "- **Unpredictable Behavior**: The program may behave differently each time it is run, depending on the timing of the thread execution.\n",
    "- **Data Corruption**: Shared data may become inconsistent or corrupted due to concurrent modifications.\n",
    "\n",
    "**Example**:\n",
    "- Two threads increment a shared counter variable without synchronization.\n",
    "- The final value of the counter may be incorrect because the threads may read, increment, and write the counter's value simultaneously, leading to lost updates.\n"
   ]
  },
  {
   "cell_type": "code",
   "execution_count": null,
   "id": "9e3a99d0-87d4-42da-a18f-0036b9f10947",
   "metadata": {},
   "outputs": [],
   "source": []
  }
 ],
 "metadata": {
  "kernelspec": {
   "display_name": "Python 3 (ipykernel)",
   "language": "python",
   "name": "python3"
  },
  "language_info": {
   "codemirror_mode": {
    "name": "ipython",
    "version": 3
   },
   "file_extension": ".py",
   "mimetype": "text/x-python",
   "name": "python",
   "nbconvert_exporter": "python",
   "pygments_lexer": "ipython3",
   "version": "3.11.7"
  }
 },
 "nbformat": 4,
 "nbformat_minor": 5
}
