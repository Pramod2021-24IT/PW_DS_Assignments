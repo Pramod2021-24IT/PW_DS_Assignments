{
 "cells": [
  {
   "cell_type": "markdown",
   "id": "94c638bf-c9d9-4ab1-86ee-e8ac5952e1cc",
   "metadata": {},
   "source": [
    "### Q1. List any five functions of the pandas library with execution."
   ]
  },
  {
   "cell_type": "code",
   "execution_count": 1,
   "id": "da42d1fe-04a3-4d95-92c7-1cbb09f5b71f",
   "metadata": {},
   "outputs": [
    {
     "name": "stdout",
     "output_type": "stream",
     "text": [
      "1. head():\n",
      "     Name  Age  Gender  Score\n",
      "0   Alice   25  Female     85\n",
      "1     Bob   30    Male     90\n",
      "2  Claire   27  Female     88\n",
      "\n",
      "2. describe():\n",
      "             Age      Score\n",
      "count   5.000000   5.000000\n",
      "mean   27.800000  86.800000\n",
      "std     4.969909   7.049823\n",
      "min    22.000000  76.000000\n",
      "25%    25.000000  85.000000\n",
      "50%    27.000000  88.000000\n",
      "75%    30.000000  90.000000\n",
      "max    35.000000  95.000000\n",
      "\n",
      "3. dropna():\n",
      "    Name   Age  Gender  Score\n",
      "0  Alice  25.0  Female     85\n",
      "1    Bob  30.0    Male     90\n",
      "3  David  22.0    Male     76\n",
      "4    Eva  35.0  Female     95\n",
      "\n",
      "4. groupby():\n",
      "Gender\n",
      "Female    29.0\n",
      "Male      26.0\n",
      "Name: Age, dtype: float64\n",
      "\n",
      "5. merge():\n",
      "     Name  Age  Gender  Score         City\n",
      "0   Alice   25  Female     85     New York\n",
      "1     Bob   30    Male     90  Los Angeles\n",
      "2  Claire   27  Female     88      Chicago\n"
     ]
    }
   ],
   "source": [
    "import pandas as pd\n",
    "\n",
    "# Create a sample DataFrame\n",
    "data = {\n",
    "    \"Name\": [\"Alice\", \"Bob\", \"Claire\", \"David\", \"Eva\"],\n",
    "    \"Age\": [25, 30, 27, 22, 35],\n",
    "    \"Gender\": [\"Female\", \"Male\", \"Female\", \"Male\", \"Female\"],\n",
    "    \"Score\": [85, 90, 88, 76, 95]\n",
    "}\n",
    "df = pd.DataFrame(data)\n",
    "\n",
    "# 1. head() - Get the first 3 rows\n",
    "print(\"1. head():\")\n",
    "print(df.head(3))\n",
    "\n",
    "# 2. describe() - Get descriptive statistics\n",
    "print(\"\\n2. describe():\")\n",
    "print(df.describe())\n",
    "\n",
    "# 3. dropna() - Drop rows with any missing values (for demonstration, add a NaN value first)\n",
    "df_with_nan = df.copy()\n",
    "df_with_nan.loc[2, \"Age\"] = None\n",
    "print(\"\\n3. dropna():\")\n",
    "print(df_with_nan.dropna())\n",
    "\n",
    "# 4. groupby() - Group by Gender and get mean age\n",
    "print(\"\\n4. groupby():\")\n",
    "print(df.groupby(\"Gender\")[\"Age\"].mean())\n",
    "\n",
    "# 5. merge() - Merge two DataFrames (for demonstration, create another DataFrame)\n",
    "data2 = {\n",
    "    \"Name\": [\"Alice\", \"Bob\", \"Claire\"],\n",
    "    \"City\": [\"New York\", \"Los Angeles\", \"Chicago\"]\n",
    "}\n",
    "df2 = pd.DataFrame(data2)\n",
    "print(\"\\n5. merge():\")\n",
    "print(pd.merge(df, df2, on=\"Name\"))\n"
   ]
  },
  {
   "cell_type": "markdown",
   "id": "0a277302-42b4-4b08-9ec4-df3599fb6ecf",
   "metadata": {},
   "source": [
    "### Q2. Given a Pandas DataFrame df with columns 'A', 'B', and 'C', write a Python function to re-index the DataFrame with a new index that starts from 1 and increments by 2 for each row."
   ]
  },
  {
   "cell_type": "code",
   "execution_count": 2,
   "id": "77a84b5e-542b-4e9c-b3e5-5c46c18b0a1b",
   "metadata": {},
   "outputs": [
    {
     "name": "stdout",
     "output_type": "stream",
     "text": [
      "    A   B   C\n",
      "1  10  40  70\n",
      "3  20  50  80\n",
      "5  30  60  90\n"
     ]
    }
   ],
   "source": [
    "import pandas as pd\n",
    "\n",
    "def reindex_dataframe(df):\n",
    "    # Create a new index starting from 1 and incrementing by 2\n",
    "    new_index = pd.RangeIndex(start=1, stop=2*len(df)+1, step=2)\n",
    "    # Assign the new index to the DataFrame\n",
    "    df.index = new_index\n",
    "    return df\n",
    "\n",
    "# Sample DataFrame\n",
    "data = {\n",
    "    \"A\": [10, 20, 30],\n",
    "    \"B\": [40, 50, 60],\n",
    "    \"C\": [70, 80, 90]\n",
    "}\n",
    "df = pd.DataFrame(data)\n",
    "\n",
    "# Re-index the DataFrame\n",
    "reindexed_df = reindex_dataframe(df)\n",
    "print(reindexed_df)\n"
   ]
  },
  {
   "cell_type": "markdown",
   "id": "ad8d92c6-4ee0-4a62-85b9-9ff36775472f",
   "metadata": {},
   "source": [
    "### Q3. You have a Pandas DataFrame df with a column named 'Values'. Write a Python function that iterates over the DataFrame and calculates the sum of the first three values in the 'Values' column. The function should print the sum to the console."
   ]
  },
  {
   "cell_type": "code",
   "execution_count": 3,
   "id": "3cd37b5b-5dfe-4559-b5bc-a9113e1639a6",
   "metadata": {},
   "outputs": [
    {
     "name": "stdout",
     "output_type": "stream",
     "text": [
      "The sum of the first three values in the 'Values' column is: 60\n"
     ]
    }
   ],
   "source": [
    "import pandas as pd\n",
    "\n",
    "def sum_first_three_values(df):\n",
    "    # Ensure the DataFrame has a 'Values' column\n",
    "    if 'Values' not in df.columns:\n",
    "        print(\"The DataFrame does not have a 'Values' column.\")\n",
    "        return\n",
    "\n",
    "    # Calculate the sum of the first three values in the 'Values' column\n",
    "    sum_of_values = df['Values'].head(3).sum()\n",
    "\n",
    "    # Print the sum to the console\n",
    "    print(f\"The sum of the first three values in the 'Values' column is: {sum_of_values}\")\n",
    "\n",
    "# Sample DataFrame\n",
    "data = {\n",
    "    'Values': [10, 20, 30, 40, 50]\n",
    "}\n",
    "df = pd.DataFrame(data)\n",
    "\n",
    "# Call the function with the sample DataFrame\n",
    "sum_first_three_values(df)\n"
   ]
  },
  {
   "cell_type": "markdown",
   "id": "855df908-044a-46b7-9f75-378d4c2f77d7",
   "metadata": {},
   "source": [
    "### Q4. Given a Pandas DataFrame df with a column 'Text', write a Python function to create a new column 'Word_Count' that contains the number of words in each row of the 'Text' column."
   ]
  },
  {
   "cell_type": "code",
   "execution_count": 3,
   "id": "bf3eb29d-3131-49d1-bad3-f82741e122a2",
   "metadata": {},
   "outputs": [
    {
     "name": "stdout",
     "output_type": "stream",
     "text": [
      "                Text  Word_Count\n",
      "0     This is a test           4\n",
      "1  Another test case           3\n",
      "2    Pandas is great           3\n",
      "3               None           0\n",
      "4                              0\n"
     ]
    }
   ],
   "source": [
    "import pandas as pd\r\n",
    "\r\n",
    "def add_word_count_column(df):\r\n",
    "    # Define a function to count words in a string\r\n",
    "    def word_count(text):\r\n",
    "        # Split the text by spaces and return the length of the resulting list\r\n",
    "        # text can be None or NaN, so we need to handle that\r\n",
    "        if pd.isna(text):\r\n",
    "            return 0\r\n",
    "        return len(text.split())\r\n",
    "\r\n",
    "    # Apply the word_count function to each row in the 'Text' column\r\n",
    "    df['Word_Count'] = df['Text'].apply(word_count)\r\n",
    "\r\n",
    "# Example usage:\r\n",
    "data = {'Text': ['This is a test', 'Another test case', 'Pandas is great', None, '']}\r\n",
    "df = pd.DataFrame(data)\r\n",
    "add_word_count_column(df)\r\n",
    "print(df)\r\n"
   ]
  },
  {
   "cell_type": "markdown",
   "id": "5d766a17-739a-4436-9019-cbbfa9f56656",
   "metadata": {},
   "source": [
    "### Q5. How are DataFrame.size() and DataFrame.shape() different?"
   ]
  },
  {
   "cell_type": "markdown",
   "id": "e1ea1905-369d-4366-bd4c-b56d78b17e38",
   "metadata": {},
   "source": [
    "- `DataFrame.shape` provides the structure of the DataFrame in terms of rows and columns.\n",
    "- `DataFrame.size` gives the total number of data points in the DataFrame.\n",
    "\n",
    "Comparison table:\n",
    "\n",
    "| Attribute       | Description                               | Output             | Example Output      |\n",
    "|-----------------|-------------------------------------------|--------------------|---------------------|\n",
    "| `DataFrame.shape` | Number of rows and columns (dimensionality) | Tuple              | `(3, 2)`            |\n",
    "| `DataFrame.size`  | Total number of elements                  | Integer            | `6`                 |\n",
    "\n"
   ]
  },
  {
   "cell_type": "code",
   "execution_count": 5,
   "id": "76bc9da4-8895-445a-98fb-40c7933a252b",
   "metadata": {},
   "outputs": [
    {
     "name": "stdout",
     "output_type": "stream",
     "text": [
      "Shape: (3, 2)\n",
      "Size: 6\n"
     ]
    }
   ],
   "source": [
    "import pandas as pd\n",
    "\n",
    "# Create a sample DataFrame\n",
    "data = {'A': [1, 2, 3], 'B': [4, 5, 6]}\n",
    "df = pd.DataFrame(data)\n",
    "\n",
    "# Get the shape of the DataFrame\n",
    "print(\"Shape:\", df.shape)  # Output: Shape: (3, 2)\n",
    "\n",
    "# Get the size of the DataFrame\n",
    "print(\"Size:\", df.size)    # Output: Size: 6"
   ]
  },
  {
   "cell_type": "markdown",
   "id": "d1f8df56-d625-460d-b559-5671133381a2",
   "metadata": {},
   "source": [
    "### Q6. Which function of pandas do we use to read an excel file?"
   ]
  },
  {
   "cell_type": "markdown",
   "id": "083b9a3f-e4ed-46b3-bda5-951613bf1b43",
   "metadata": {},
   "source": [
    "### Parameters\n",
    "\n",
    "- **`io`**: str, bytes, ExcelFile, xlrd.Book, path object, or file-like object. The path to the Excel file.\n",
    "- **`sheet_name`**: str, int, list, or None, default 0. Specifies which sheet or sheets to read.\n",
    "  - `0` or sheet name: read the first sheet or the specified sheet.\n",
    "  - `None`: read all sheets into a dictionary of DataFrames.\n",
    "  - List of sheet names or sheet indices: read specified sheets into a dictionary of DataFrames.\n",
    "- **`header`**: int, list of int, default 0. Row (0-indexed) to use for column labels.\n",
    "- **`names`**: array-like, default None. List of column names to use.\n",
    "- **`index_col`**: int, list of int, default None. Column (0-indexed) to use as the row labels.\n",
    "- **`usecols`**: str, list-like, or callable, default None. Return a subset of the columns.\n",
    "- **`dtype`**: Type name or dict of column -> type, default None. Data type for data or columns.\n",
    "- **`engine`**: str, default None. If io is not a buffer or path, this must be set to the engine you want to use (e.g., 'xlrd', 'openpyxl', or 'odf').\n"
   ]
  },
  {
   "cell_type": "markdown",
   "id": "53c154f1-ecd8-41ba-bf32-a8be20ef136a",
   "metadata": {},
   "source": [
    "### Q7. You have a Pandas DataFrame df that contains a column named 'Email' that contains email \n",
    "addresses in the format 'username@domain.com'. Write a Python function that creates a new colum \r\n",
    "'Username' in df that contains only the username part of each email addres .\r\n",
    "The username is the part of the email address that appears before the '@' symbol. For example, if  he\r\n",
    "email address is 'john.doe@example.com', the 'Username' column should contain 'john.doe'.  our\r\n",
    "function should extract the username from each email address and store it in the new 'User ame'\r\n",
    "column."
   ]
  },
  {
   "cell_type": "code",
   "execution_count": 7,
   "id": "c23569b3-77d4-42ef-b58e-762c1137f2ac",
   "metadata": {},
   "outputs": [
    {
     "name": "stdout",
     "output_type": "stream",
     "text": [
      "                     Email     Username\n",
      "0     john.doe@example.com     john.doe\n",
      "1    jane.smith@domain.com   jane.smith\n",
      "2  alice.brown@another.com  alice.brown\n"
     ]
    }
   ],
   "source": [
    "import pandas as pd\n",
    "\n",
    "def add_username_column(df):\n",
    "    # Define a function to extract the username from an email address\n",
    "    def extract_username(email):\n",
    "        return email.split('@')[0]\n",
    "\n",
    "    # Apply the function to the 'Email' column and create a new 'Username' column\n",
    "    df['Username'] = df['Email'].apply(extract_username)\n",
    "\n",
    "# Example usage\n",
    "data = {'Email': ['john.doe@example.com', 'jane.smith@domain.com', 'alice.brown@another.com']}\n",
    "df = pd.DataFrame(data)\n",
    "add_username_column(df)\n",
    "print(df)\n"
   ]
  },
  {
   "cell_type": "markdown",
   "id": "dc2c721b-fc53-4db8-b02f-486df19d783b",
   "metadata": {},
   "source": [
    "### Q8. You have a Pandas DataFrame df with columns 'A', 'B', and 'C'. Write a Python function that selects\n",
    "all rows where the value in column 'A' is greater than 5 and the value in column 'B' is less than 10. The\n",
    "function should return a new DataFrame that contains only the selected rows.\n",
    "For example, if df contains the following values:\n",
    "A B C\n",
    "0 3 5 1\n",
    "1 8 2 7\n",
    "2 6 9 4\n",
    "3 2 3 5\n",
    "4 9 1 2  Your function should select the following rows: A B C\n",
    "1 8 2 7\n",
    "4 9 1 2\n",
    "The function should return a new DataFrame that contains only the selected rows."
   ]
  },
  {
   "cell_type": "code",
   "execution_count": 8,
   "id": "0dcde9fb-d3e5-44ed-bed7-07c959c92bcb",
   "metadata": {},
   "outputs": [
    {
     "name": "stdout",
     "output_type": "stream",
     "text": [
      "   A  B  C\n",
      "1  8  2  7\n",
      "2  6  9  4\n",
      "4  9  1  2\n"
     ]
    }
   ],
   "source": [
    "import pandas as pd\r\n",
    "\r\n",
    "def select_rows(df):\r\n",
    "    # Apply the conditions to select rows\r\n",
    "    selected_rows = df[(df['A'] > 5) & (df['B'] < 10)]\r\n",
    "    return selected_rows\r\n",
    "\r\n",
    "# Example usage:\r\n",
    "data = {\r\n",
    "    'A': [3, 8, 6, 2, 9],\r\n",
    "    'B': [5, 2, 9, 3, 1],\r\n",
    "    'C': [1, 7, 4, 5, 2]\r\n",
    "}\r\n",
    "\r\n",
    "df = pd.DataFrame(data)\r\n",
    "selected_df = select_rows(df)\r\n",
    "print(selected_df)\r\n"
   ]
  },
  {
   "cell_type": "markdown",
   "id": "50247a9f-98b8-450f-a658-69b63fb4e519",
   "metadata": {},
   "source": [
    "### Q9. Given a Pandas DataFrame df with a column 'Values', write a Python function to calculate the mean, median, and standard deviation of the values in the 'Values' column."
   ]
  },
  {
   "cell_type": "code",
   "execution_count": 9,
   "id": "282f519d-0cb6-4059-9a11-0a7e148517f8",
   "metadata": {},
   "outputs": [
    {
     "name": "stdout",
     "output_type": "stream",
     "text": [
      "{'Mean': 30.0, 'Median': 30.0, 'Standard Deviation': 15.811388300841896}\n"
     ]
    }
   ],
   "source": [
    "import pandas as pd\n",
    "\n",
    "def calculate_statistics(df):\n",
    "    # Calculate mean, median, and standard deviation of the 'Values' column\n",
    "    mean_value = df['Values'].mean()\n",
    "    median_value = df['Values'].median()\n",
    "    std_dev_value = df['Values'].std()\n",
    "\n",
    "    # Return the results as a dictionary\n",
    "    return {\n",
    "        'Mean': mean_value,\n",
    "        'Median': median_value,\n",
    "        'Standard Deviation': std_dev_value\n",
    "    }\n",
    "\n",
    "# Example usage:\n",
    "data = {'Values': [10, 20, 30, 40, 50]}\n",
    "df = pd.DataFrame(data)\n",
    "statistics = calculate_statistics(df)\n",
    "print(statistics)\n"
   ]
  },
  {
   "cell_type": "markdown",
   "id": "d712515c-0450-486f-a0f2-fad0574a0ef0",
   "metadata": {},
   "source": [
    "### Q10. Given a Pandas DataFrame df with a column 'Sales' and a column 'Date', write a Python function to create a new column 'MovingAverage' that contains the moving average of the sales for the past 7 days for each row in the DataFrame. The moving average should be calculated using a window of size 7 and should include the current day."
   ]
  },
  {
   "cell_type": "code",
   "execution_count": 10,
   "id": "7443d7ad-fd09-421f-93e2-08f59f258a1c",
   "metadata": {},
   "outputs": [
    {
     "name": "stdout",
     "output_type": "stream",
     "text": [
      "        Date  Sales  MovingAverage\n",
      "0 2024-07-01    200     200.000000\n",
      "1 2024-07-02    220     210.000000\n",
      "2 2024-07-03    250     223.333333\n",
      "3 2024-07-04    270     235.000000\n",
      "4 2024-07-05    300     248.000000\n",
      "5 2024-07-06    280     253.333333\n",
      "6 2024-07-07    310     261.428571\n",
      "7 2024-07-08    330     280.000000\n",
      "8 2024-07-09    350     298.571429\n",
      "9 2024-07-10    400     320.000000\n"
     ]
    }
   ],
   "source": [
    "import pandas as pd\n",
    "\n",
    "def add_moving_average(df):\n",
    "    # Ensure 'Date' column is in datetime format\n",
    "    df['Date'] = pd.to_datetime(df['Date'])\n",
    "    \n",
    "    # Sort DataFrame by 'Date' to ensure chronological order\n",
    "    df = df.sort_values(by='Date')\n",
    "    \n",
    "    # Calculate the 7-day moving average of 'Sales' column\n",
    "    df['MovingAverage'] = df['Sales'].rolling(window=7, min_periods=1).mean()\n",
    "    \n",
    "    return df\n",
    "\n",
    "# Example usage\n",
    "data = {\n",
    "    'Date': ['2024-07-01', '2024-07-02', '2024-07-03', '2024-07-04', '2024-07-05', \n",
    "             '2024-07-06', '2024-07-07', '2024-07-08', '2024-07-09', '2024-07-10'],\n",
    "    'Sales': [200, 220, 250, 270, 300, 280, 310, 330, 350, 400]\n",
    "}\n",
    "\n",
    "df = pd.DataFrame(data)\n",
    "df_with_moving_avg = add_moving_average(df)\n",
    "print(df_with_moving_avg)\n"
   ]
  },
  {
   "cell_type": "markdown",
   "id": "e7180f49-14c5-4a59-aa2c-2c169e4d225e",
   "metadata": {},
   "source": [
    "### Q11. You have a Pandas DataFrame df with a column 'Date'. Write a Python function that creates a new column 'Weekday' in the DataFrame. The 'Weekday' column should contain the weekday name (e.g. Monday, Tuesday) corresponding to each date in the 'Date' column. For example, if df contains the following values:\n",
    "Date <br>\n",
    "0 2023-01-01 <br>\n",
    "1 2023-01-02 <br>\n",
    "2 2023-01-03 <br>\n",
    "3 2023-01-04 <br>\n",
    "4 2023-01-05 <br>\n",
    "Your function should create the following DataFrame: <br>\n",
    "<br>\n",
    "Date Weekday <br>\n",
    "0 2023-01-01 Sunday <br>\n",
    "1 2023-01-02 Monday <br>\n",
    "2 2023-01-03 Tuesday <br>\n",
    "3 2023-01-04 Wednesday <br>\n",
    "4 2023-01-05 Thursday <br>\n",
    "The function should return the modified DataFrame."
   ]
  },
  {
   "cell_type": "code",
   "execution_count": 11,
   "id": "0c9fbeea-3c1c-419d-935d-95ce28431a48",
   "metadata": {},
   "outputs": [
    {
     "name": "stdout",
     "output_type": "stream",
     "text": [
      "        Date    Weekday\n",
      "0 2023-01-01     Sunday\n",
      "1 2023-01-02     Monday\n",
      "2 2023-01-03    Tuesday\n",
      "3 2023-01-04  Wednesday\n",
      "4 2023-01-05   Thursday\n"
     ]
    }
   ],
   "source": [
    "import pandas as pd\n",
    "\n",
    "def add_weekday_column(df):\n",
    "    # Ensure 'Date' column is in datetime format\n",
    "    df['Date'] = pd.to_datetime(df['Date'])\n",
    "    \n",
    "    # Create the 'Weekday' column by extracting the weekday name\n",
    "    df['Weekday'] = df['Date'].dt.day_name()\n",
    "    \n",
    "    return df\n",
    "\n",
    "# Example usage\n",
    "data = {\n",
    "    'Date': ['2023-01-01', '2023-01-02', '2023-01-03', '2023-01-04', '2023-01-05']\n",
    "}\n",
    "\n",
    "df = pd.DataFrame(data)\n",
    "df_with_weekday = add_weekday_column(df)\n",
    "print(df_with_weekday)\n"
   ]
  },
  {
   "cell_type": "markdown",
   "id": "d12bd190-91fa-44aa-bc26-8d9813a32291",
   "metadata": {},
   "source": [
    "### Q12. Given a Pandas DataFrame df with a column 'Date' that contains timestamps, write a Python function to select all rows where the date is between '2023-01-01' and '2023-01-31'."
   ]
  },
  {
   "cell_type": "code",
   "execution_count": 12,
   "id": "e0b72edf-bf42-4a20-87dd-7f3da0e32ef2",
   "metadata": {},
   "outputs": [
    {
     "name": "stdout",
     "output_type": "stream",
     "text": [
      "        Date\n",
      "0 2023-01-01\n",
      "1 2023-01-15\n",
      "3 2023-01-30\n",
      "4 2023-01-05\n"
     ]
    }
   ],
   "source": [
    "import pandas as pd\n",
    "\n",
    "def filter_dates(df):\n",
    "    # Ensure 'Date' column is in datetime format\n",
    "    df['Date'] = pd.to_datetime(df['Date'])\n",
    "    \n",
    "    # Define the start and end date for the filter\n",
    "    start_date = '2023-01-01'\n",
    "    end_date = '2023-01-31'\n",
    "    \n",
    "    # Filter rows where 'Date' is between start_date and end_date\n",
    "    filtered_df = df[(df['Date'] >= start_date) & (df['Date'] <= end_date)]\n",
    "    \n",
    "    return filtered_df\n",
    "\n",
    "# Example usage\n",
    "data = {\n",
    "    'Date': ['2023-01-01', '2023-01-15', '2023-02-01', '2023-01-30', '2023-01-05']\n",
    "}\n",
    "\n",
    "df = pd.DataFrame(data)\n",
    "filtered_df = filter_dates(df)\n",
    "print(filtered_df)\n"
   ]
  },
  {
   "cell_type": "markdown",
   "id": "19f95806-b45f-470a-a97e-409162bdc240",
   "metadata": {},
   "source": [
    "### Q13. To use the basic functions of pandas, what is the first and foremost necessary library that needs to be imported?"
   ]
  },
  {
   "cell_type": "code",
   "execution_count": 13,
   "id": "2394407e-f9b6-4809-8d1e-1242611b4107",
   "metadata": {},
   "outputs": [
    {
     "name": "stdout",
     "output_type": "stream",
     "text": [
      "   A  B\n",
      "0  1  4\n",
      "1  2  5\n",
      "2  3  6\n"
     ]
    }
   ],
   "source": [
    "import pandas as pd\n",
    "\n",
    "# Creating a DataFrame\n",
    "df = pd.DataFrame({'A': [1, 2, 3], 'B': [4, 5, 6]})\n",
    "\n",
    "# Displaying the DataFrame\n",
    "print(df)\n"
   ]
  },
  {
   "cell_type": "code",
   "execution_count": null,
   "id": "e2e651b6-79f7-4049-93f3-c6c3640e8932",
   "metadata": {},
   "outputs": [],
   "source": []
  }
 ],
 "metadata": {
  "kernelspec": {
   "display_name": "Python 3 (ipykernel)",
   "language": "python",
   "name": "python3"
  },
  "language_info": {
   "codemirror_mode": {
    "name": "ipython",
    "version": 3
   },
   "file_extension": ".py",
   "mimetype": "text/x-python",
   "name": "python",
   "nbconvert_exporter": "python",
   "pygments_lexer": "ipython3",
   "version": "3.12.4"
  }
 },
 "nbformat": 4,
 "nbformat_minor": 5
}
