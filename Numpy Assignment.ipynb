{
 "cells": [
  {
   "cell_type": "code",
   "execution_count": 2,
   "id": "667abf79-7a5c-481b-9748-fd42a956c920",
   "metadata": {},
   "outputs": [],
   "source": [
    "# Consider the below code to answer further questions:\n",
    "import numpy as np\n",
    "list_ = [ '1' , '2' , '3' , '4' , '5' ]\n",
    "array_list = np.array(object = list_)\n"
   ]
  },
  {
   "cell_type": "markdown",
   "id": "89f0af56-0415-4613-8526-6a12d065fb94",
   "metadata": {},
   "source": [
    "### Q1. Is there any difference in the data type of variables list_ and array_list? If there is then write a code to print the data types of both the variables."
   ]
  },
  {
   "cell_type": "code",
   "execution_count": 3,
   "id": "ec241f4d-582b-4237-ab2d-5f7a69dc8377",
   "metadata": {},
   "outputs": [
    {
     "name": "stdout",
     "output_type": "stream",
     "text": [
      "The data type of list_ is: <class 'list'>\n",
      "The data type of array_list is: <class 'numpy.ndarray'>\n"
     ]
    }
   ],
   "source": [
    "# Yes, there is a difference in the data types of list_ and array_list. list_ is a Python list, whereas array_list is a NumPy array.\n",
    "import numpy as np\n",
    "\n",
    "list_ = ['1', '2', '3', '4', '5']\n",
    "array_list = np.array(object=list_)\n",
    "\n",
    "# Print the data types of both variables\n",
    "print(f\"The data type of list_ is: {type(list_)}\")\n",
    "print(f\"The data type of array_list is: {type(array_list)}\")\n"
   ]
  },
  {
   "cell_type": "markdown",
   "id": "82b49521-762a-4cfa-9eb8-0ccb4499fd32",
   "metadata": {},
   "source": [
    "### Q2. Write a code to print the data type of each and every element of both the variables list_ and arra_list."
   ]
  },
  {
   "cell_type": "code",
   "execution_count": 4,
   "id": "489c7bb5-7fd4-498d-bdfb-ce991ebb0155",
   "metadata": {},
   "outputs": [
    {
     "name": "stdout",
     "output_type": "stream",
     "text": [
      "Data types of each element in list_:\n",
      "<class 'str'>\n",
      "<class 'str'>\n",
      "<class 'str'>\n",
      "<class 'str'>\n",
      "<class 'str'>\n",
      "Data types of each element in array_list:\n",
      "<class 'numpy.str_'>\n",
      "<class 'numpy.str_'>\n",
      "<class 'numpy.str_'>\n",
      "<class 'numpy.str_'>\n",
      "<class 'numpy.str_'>\n"
     ]
    }
   ],
   "source": [
    "# Print the data type of each element in list_\n",
    "print(\"Data types of each element in list_:\")\n",
    "for elem in list_:\n",
    "    print(type(elem))\n",
    "\n",
    "# Print the data type of each element in array_list\n",
    "print(\"Data types of each element in array_list:\")\n",
    "for elem in array_list:\n",
    "    print(type(elem))\n"
   ]
  },
  {
   "cell_type": "markdown",
   "id": "3ff1b3c1-17ff-4e25-a727-471285afaf09",
   "metadata": {},
   "source": [
    "### Q3. Considering the following changes in the variable, array_list:\n",
    "array_list = np.array(object = list_, dtype = int) <br>\n",
    "Will there be any difference in the data type of the elements present in both the variables, list_ and arra_list? If so then print the data types of each and every element present in both the variables, list_ and arra_list."
   ]
  },
  {
   "cell_type": "code",
   "execution_count": 5,
   "id": "7fab8ced-ed68-40a8-a1f4-d49bcf36a787",
   "metadata": {},
   "outputs": [
    {
     "name": "stdout",
     "output_type": "stream",
     "text": [
      "Data types of each element in list_:\n",
      "<class 'str'>\n",
      "<class 'str'>\n",
      "<class 'str'>\n",
      "<class 'str'>\n",
      "<class 'str'>\n",
      "Data types of each element in array_list after conversion:\n",
      "<class 'numpy.int32'>\n",
      "<class 'numpy.int32'>\n",
      "<class 'numpy.int32'>\n",
      "<class 'numpy.int32'>\n",
      "<class 'numpy.int32'>\n"
     ]
    }
   ],
   "source": [
    "import numpy as np\n",
    "\n",
    "list_ = ['1', '2', '3', '4', '5']\n",
    "array_list = np.array(object=list_, dtype=int)\n",
    "\n",
    "# Print the data type of each element in list_\n",
    "print(\"Data types of each element in list_:\")\n",
    "for elem in list_:\n",
    "    print(type(elem))\n",
    "\n",
    "# Print the data type of each element in array_list\n",
    "print(\"Data types of each element in array_list after conversion:\")\n",
    "for elem in array_list:\n",
    "    print(type(elem))\n"
   ]
  },
  {
   "cell_type": "code",
   "execution_count": 6,
   "id": "9635a0de-7d27-4e9c-a675-c05bf46dffc9",
   "metadata": {},
   "outputs": [],
   "source": [
    "# Consider the below code to answer further questions:\n",
    "import numpy as np\n",
    "num_list = [ [ 1 , 2 , 3 ] , [ 4 , 5 , 6 ] ]\n",
    "num_array = np.array(object = num_list)\n"
   ]
  },
  {
   "cell_type": "markdown",
   "id": "db4c3ec9-6bd0-4efd-b026-f752117a2fa5",
   "metadata": {},
   "source": [
    "### Q4. Write a code to find the following characteristics of variable, num_array: \n",
    "1. shape\n",
    "2. size"
   ]
  },
  {
   "cell_type": "code",
   "execution_count": 7,
   "id": "c7ac10c1-d770-4950-b23c-242d5bf5a546",
   "metadata": {},
   "outputs": [
    {
     "name": "stdout",
     "output_type": "stream",
     "text": [
      "Shape of num_array: (2, 3)\n"
     ]
    }
   ],
   "source": [
    "# Q4. (i) Shape of num_array\n",
    "shape = num_array.shape\n",
    "print(f\"Shape of num_array: {shape}\")"
   ]
  },
  {
   "cell_type": "code",
   "execution_count": 9,
   "id": "e75ae4bc-0804-42c4-a3d1-795d2b9dd20b",
   "metadata": {},
   "outputs": [
    {
     "name": "stdout",
     "output_type": "stream",
     "text": [
      "Size of num_array: 6\n"
     ]
    }
   ],
   "source": [
    "# Q4. (ii) Size of num_array\n",
    "size = num_array.size\n",
    "print(f\"Size of num_array: {size}\")"
   ]
  },
  {
   "cell_type": "markdown",
   "id": "e4b90405-f9a2-4bd7-a107-6775130142ea",
   "metadata": {},
   "source": [
    "### Q5. Write a code to create numpy array of 3*3 matrix containing zeros only, using a numpy array creation function.\n",
    "[Hint: The size of the array will be 9 and the shape will be (3,3).] "
   ]
  },
  {
   "cell_type": "code",
   "execution_count": 11,
   "id": "64d3ea08-fa90-4d3d-95b1-859f2ae97d43",
   "metadata": {},
   "outputs": [
    {
     "name": "stdout",
     "output_type": "stream",
     "text": [
      "3x3 matrix of zeros:\n",
      "[[0. 0. 0.]\n",
      " [0. 0. 0.]\n",
      " [0. 0. 0.]]\n"
     ]
    }
   ],
   "source": [
    "# Create a 3x3 matrix of zeros\n",
    "zero_matrix = np.zeros((3, 3))\n",
    "print(\"3x3 matrix of zeros:\")\n",
    "print(zero_matrix)"
   ]
  },
  {
   "cell_type": "markdown",
   "id": "695e1de4-e609-47de-a486-b3164b7c0798",
   "metadata": {},
   "source": [
    "### Q6. Create an identity matrix of shape (5,5) using numpy functions?\n",
    "[Hint: An identity matrix is a matrix containing 1 diagonally and other elements will be 0.]"
   ]
  },
  {
   "cell_type": "code",
   "execution_count": 12,
   "id": "7f733472-6497-43d3-9f16-491d2921c0eb",
   "metadata": {},
   "outputs": [
    {
     "name": "stdout",
     "output_type": "stream",
     "text": [
      "5x5 identity matrix:\n",
      "[[1. 0. 0. 0. 0.]\n",
      " [0. 1. 0. 0. 0.]\n",
      " [0. 0. 1. 0. 0.]\n",
      " [0. 0. 0. 1. 0.]\n",
      " [0. 0. 0. 0. 1.]]\n"
     ]
    }
   ],
   "source": [
    "# Create a 5x5 identity matrix\n",
    "identity_matrix = np.eye(5)\n",
    "print(\"5x5 identity matrix:\")\n",
    "print(identity_matrix)"
   ]
  },
  {
   "cell_type": "code",
   "execution_count": null,
   "id": "5e071ce4-4678-4401-b9b1-0b6d909af008",
   "metadata": {},
   "outputs": [],
   "source": []
  }
 ],
 "metadata": {
  "kernelspec": {
   "display_name": "Python 3 (ipykernel)",
   "language": "python",
   "name": "python3"
  },
  "language_info": {
   "codemirror_mode": {
    "name": "ipython",
    "version": 3
   },
   "file_extension": ".py",
   "mimetype": "text/x-python",
   "name": "python",
   "nbconvert_exporter": "python",
   "pygments_lexer": "ipython3",
   "version": "3.12.4"
  }
 },
 "nbformat": 4,
 "nbformat_minor": 5
}
