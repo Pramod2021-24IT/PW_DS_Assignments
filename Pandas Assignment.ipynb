{
 "cells": [
  {
   "cell_type": "code",
   "execution_count": 3,
   "id": "e5a269f2-9bb5-44cc-bd93-23ef645ccbe1",
   "metadata": {},
   "outputs": [],
   "source": [
    "### Consider following code to answer further questions:\n",
    "import pandas as pd\n",
    "course_name = ['Data Science', 'Machine Learning', 'Big Data', 'Data Engineer']\n",
    "duration = [2,3,6,4]\n",
    "df = pd.DataFrame(data = {'course_name' : course_name, 'duration' : duration})"
   ]
  },
  {
   "cell_type": "markdown",
   "id": "9e52c41f-f28b-4d4a-8481-d7a52576e78e",
   "metadata": {},
   "source": [
    "### Q1. Write a code to print the data present in the second row of the dataframe, df."
   ]
  },
  {
   "cell_type": "code",
   "execution_count": 4,
   "id": "7a907491-bd30-48e1-aabf-75f2ace84c3e",
   "metadata": {},
   "outputs": [
    {
     "name": "stdout",
     "output_type": "stream",
     "text": [
      "course_name    Machine Learning\n",
      "duration                      3\n",
      "Name: 1, dtype: object\n"
     ]
    }
   ],
   "source": [
    "print(df.iloc[1])\n"
   ]
  },
  {
   "cell_type": "markdown",
   "id": "2bda47e8-56ee-460c-88fb-7e4e366d8f62",
   "metadata": {},
   "source": [
    "### Q2. What is the difference between the functions loc and iloc in pandas.DataFrame?"
   ]
  },
  {
   "cell_type": "markdown",
   "id": "e9fa4401-491a-4898-a4b3-02cf2f328d3e",
   "metadata": {},
   "source": [
    "- **`loc`**: Used for label-based indexing. It requires the row or column labels (names) to be specified. It includes the end label in the result.\n",
    "  - Example: `df.loc[1]` would return the row with index label 1.\n",
    "\n",
    "- **`iloc`**: Used for integer-based indexing. It requires integer positions (indices) to be specified. It does not include the end index in the result.\n",
    "  - Example: `df.iloc[1]` would return the second row of the DataFrame.\n"
   ]
  },
  {
   "cell_type": "markdown",
   "id": "0c0890ab-06f4-4260-800d-94f0c2da20c9",
   "metadata": {},
   "source": [
    "### Q3. Reindex the given dataframe using a variable, reindex = [3,0,1,2] and store it in the variable, new_df then find the output for both new_df.loc[2] and new_df.iloc[2]."
   ]
  },
  {
   "cell_type": "code",
   "execution_count": 5,
   "id": "7d8284d2-9088-45e0-ae77-7e14671f3216",
   "metadata": {},
   "outputs": [
    {
     "name": "stdout",
     "output_type": "stream",
     "text": [
      "        course_name  duration\n",
      "3     Data Engineer         4\n",
      "0      Data Science         2\n",
      "1  Machine Learning         3\n",
      "2          Big Data         6\n",
      "course_name    Big Data\n",
      "duration              6\n",
      "Name: 2, dtype: object\n",
      "course_name    Machine Learning\n",
      "duration                      3\n",
      "Name: 1, dtype: object\n"
     ]
    }
   ],
   "source": [
    "reindex = [3, 0, 1, 2]\n",
    "new_df = df.reindex(reindex)\n",
    "\n",
    "# Print new_df\n",
    "print(new_df)\n",
    "\n",
    "# Find values at index 2 using both loc and iloc\n",
    "print(new_df.loc[2])\n",
    "print(new_df.iloc[2])\n"
   ]
  },
  {
   "cell_type": "markdown",
   "id": "969050c3-dc6c-48c0-9d8a-6704351beb3f",
   "metadata": {},
   "source": [
    "### Q4. Write a code to find the following statistical measurements for the above dataframe df1:\n",
    "(i) mean of each and every column present in the dataframe. <br>\n",
    "(ii) standard deviation of column, ‘column_2’"
   ]
  },
  {
   "cell_type": "code",
   "execution_count": 1,
   "id": "1a6d147b-9ee8-4517-bf60-74473fd3972f",
   "metadata": {},
   "outputs": [
    {
     "name": "stdout",
     "output_type": "stream",
     "text": [
      "Mean of each numeric column:\n",
      "duration    3.75\n",
      "dtype: float64\n",
      "Standard deviation of 'duration':\n",
      "1.707825127659933\n"
     ]
    }
   ],
   "source": [
    "import pandas as pd\n",
    "\n",
    "# Define the DataFrame\n",
    "course_name = ['Data Science', 'Machine Learning', 'Big Data', 'Data Engineer']\n",
    "duration = [2, 3, 6, 4]\n",
    "df = pd.DataFrame(data={'course_name': course_name, 'duration': duration})\n",
    "\n",
    "# Calculate mean of each numeric column\n",
    "mean_values = df.select_dtypes(include='number').mean()\n",
    "print(\"Mean of each numeric column:\")\n",
    "print(mean_values)\n",
    "\n",
    "# Standard deviation of 'duration' column\n",
    "std_dev_duration = df['duration'].std()\n",
    "print(\"Standard deviation of 'duration':\")\n",
    "print(std_dev_duration)\n"
   ]
  },
  {
   "cell_type": "markdown",
   "id": "c9a47ad4-bd34-4dbe-ad9b-253f33b14c5b",
   "metadata": {},
   "source": [
    "### Q5. Replace the data present in the second row of column, ‘column_2’ by a string variable then find the mean of column, column_2. If you are getting errors in executing it then explain why.\n",
    "[Hint: To replace the data use df1.loc[] and equate this to string data of your choice.]"
   ]
  },
  {
   "cell_type": "code",
   "execution_count": 2,
   "id": "e4cbf638-c944-40cb-b063-5ab67ca92319",
   "metadata": {},
   "outputs": [
    {
     "name": "stdout",
     "output_type": "stream",
     "text": [
      "Error: unsupported operand type(s) for +: 'int' and 'str'\n"
     ]
    },
    {
     "name": "stderr",
     "output_type": "stream",
     "text": [
      "C:\\Users\\Ajay kumar\\AppData\\Local\\Temp\\ipykernel_7468\\3499205471.py:11: FutureWarning: Setting an item of incompatible dtype is deprecated and will raise an error in a future version of pandas. Value 'string_value' has dtype incompatible with int64, please explicitly cast to a compatible dtype first.\n",
      "  df1.loc[1, 'column_2'] = 'string_value'\n"
     ]
    }
   ],
   "source": [
    "import pandas as pd\n",
    "\n",
    "# Define the DataFrame\n",
    "data = {\n",
    "    'column_1': [1, 2, 3, 4],\n",
    "    'column_2': [10, 20, 30, 40]\n",
    "}\n",
    "df1 = pd.DataFrame(data)\n",
    "\n",
    "# Replace the second row of 'column_2' with a string\n",
    "df1.loc[1, 'column_2'] = 'string_value'\n",
    "\n",
    "# Attempt to calculate the mean\n",
    "try:\n",
    "    mean_column_2 = df1['column_2'].mean()\n",
    "except TypeError as e:\n",
    "    print(\"Error:\", e)\n"
   ]
  },
  {
   "cell_type": "markdown",
   "id": "fa947deb-e8f6-45e0-bb39-8e45dc1b7c51",
   "metadata": {},
   "source": [
    "Explanation:\n",
    "\n",
    "- Before replacement, both columns are of int64 type.\n",
    "- After replacing a value in column_2 with a string, the dtype of column_2 changes to object.\n",
    "- The mean calculation raises a TypeError because arithmetic operations are not supported between int and str.\n",
    "In conclusion, when working with DataFrames in pandas, ensure that columns intended for arithmetic operations remain numeric in dtype. If you need to handle mixed data types, consider filtering or converting data appropriately before performing such calculations."
   ]
  },
  {
   "cell_type": "markdown",
   "id": "bd097d9a-f730-45ce-8ba7-1eeb85a84030",
   "metadata": {},
   "source": [
    "### Q6. What do you understand about the windows function in pandas and list the types of windows functions?"
   ]
  },
  {
   "cell_type": "markdown",
   "id": "23981f1c-dc5b-483a-926b-c23a73f91780",
   "metadata": {},
   "source": [
    "#### Windows function in Pandas: \n",
    "Window functions in pandas provide tools for performing operations over a sliding window of data. They are particularly useful for time-series data.\n",
    "\n",
    "#### Types of Window Functions:"
   ]
  },
  {
   "cell_type": "markdown",
   "id": "5c899f40-1ee7-402d-8af8-d89b946d64b8",
   "metadata": {},
   "source": [
    "1. Rolling Window: Applies a function over a sliding window. For example: <br>\n",
    "df.rolling(window=3).mean() <br>\n",
    "2. Expanding Window: Applies a function over an expanding window. For example: <br>\n",
    "df.expanding(min_periods=1).mean() <br>\n",
    "3. Exponentially Weighted Window: Applies exponentially weighted calculations. For example: <br>\n",
    "df.ewm(span=3).mean()"
   ]
  },
  {
   "cell_type": "markdown",
   "id": "9165a335-97e9-4a94-bc5b-00d5f9a0cd78",
   "metadata": {},
   "source": [
    "### Q7. Write a code to print only the current month and year at the time of answering this question. [Hint: Use pandas.datetime function]"
   ]
  },
  {
   "cell_type": "code",
   "execution_count": 5,
   "id": "91fc8913-ed38-4efb-bee3-51c15384a8a3",
   "metadata": {},
   "outputs": [
    {
     "name": "stdout",
     "output_type": "stream",
     "text": [
      "Current Month: 7\n",
      "Current Year: 2024\n"
     ]
    }
   ],
   "source": [
    "import pandas as pd\n",
    "\n",
    "# Get the current timestamp\n",
    "current_timestamp = pd.Timestamp.now()\n",
    "\n",
    "# Extract current month and year\n",
    "current_month = current_timestamp.month\n",
    "current_year = current_timestamp.year\n",
    "\n",
    "print(f\"Current Month: {current_month}\")\n",
    "print(f\"Current Year: {current_year}\")\n"
   ]
  },
  {
   "cell_type": "markdown",
   "id": "1a0fd8e3-a03d-4a65-83b1-bfc9cfda00cb",
   "metadata": {},
   "source": [
    "### Q8. Write a Python program that takes in two dates as input (in the format YYYY-MM-DD) and calculates the difference between them in days, hours, and minutes using Pandas time delta. The program should prompt the user to enter the dates and display the result."
   ]
  },
  {
   "cell_type": "code",
   "execution_count": 6,
   "id": "d730bcce-86ac-4f88-b62e-62bc4d36633c",
   "metadata": {},
   "outputs": [
    {
     "name": "stdin",
     "output_type": "stream",
     "text": [
      "Enter the first date (YYYY-MM-DD):  2024-07-30\n",
      "Enter the second date (YYYY-MM-DD):  2024-07-29\n"
     ]
    },
    {
     "name": "stdout",
     "output_type": "stream",
     "text": [
      "Difference: -1 days, 0 hours, 0 minutes\n"
     ]
    }
   ],
   "source": [
    "import pandas as pd\n",
    "\n",
    "def calculate_date_difference(date1, date2):\n",
    "    # Convert string dates to pandas Timestamp\n",
    "    timestamp1 = pd.Timestamp(date1)\n",
    "    timestamp2 = pd.Timestamp(date2)\n",
    "    \n",
    "    # Calculate the difference\n",
    "    delta = timestamp2 - timestamp1\n",
    "    \n",
    "    # Extract days, hours, and minutes\n",
    "    days = delta.days\n",
    "    hours = delta.components.hours\n",
    "    minutes = delta.components.minutes\n",
    "    \n",
    "    return days, hours, minutes\n",
    "\n",
    "# Example usage\n",
    "date1 = input(\"Enter the first date (YYYY-MM-DD): \")\n",
    "date2 = input(\"Enter the second date (YYYY-MM-DD): \")\n",
    "\n",
    "days, hours, minutes = calculate_date_difference(date1, date2)\n",
    "print(f\"Difference: {days} days, {hours} hours, {minutes} minutes\")\n"
   ]
  },
  {
   "cell_type": "markdown",
   "id": "c77438f7-d1c2-48db-83d6-c9db2372751f",
   "metadata": {},
   "source": [
    "### Q9. Write a Python program that reads a CSV file containing categorical data and converts a specified column to a categorical data type. The program should prompt the user to enter the file path, column name, and category order, and then display the sorted data."
   ]
  },
  {
   "cell_type": "code",
   "execution_count": 12,
   "id": "37f6a588-e983-4d31-bcd5-1a98dbf2b956",
   "metadata": {},
   "outputs": [
    {
     "name": "stdin",
     "output_type": "stream",
     "text": [
      "Enter the CSV file path:  \"D:/Downloaded/data.csv\"\n",
      "Enter the column name to convert to categorical:  Role\n",
      "Enter the category order (comma-separated):  Analyst,Developer,Manager\n"
     ]
    },
    {
     "name": "stdout",
     "output_type": "stream",
     "text": [
      "Sorted DataFrame:\n",
      "      Name       Role\n",
      "2  Charlie    Analyst\n",
      "1      Bob  Developer\n",
      "4      Eve  Developer\n",
      "0    Alice    Manager\n",
      "3    David    Manager\n"
     ]
    }
   ],
   "source": [
    "import pandas as pd\n",
    "\n",
    "def convert_to_categorical(file_path, column_name, category_order):\n",
    "    try:\n",
    "        # Read the CSV file\n",
    "        df = pd.read_csv(file_path.strip('\"'))\n",
    "        \n",
    "        # Convert the specified column to a categorical data type with the given order\n",
    "        df[column_name] = pd.Categorical(df[column_name], categories=category_order, ordered=True)\n",
    "        \n",
    "        # Sort the DataFrame by the categorical column\n",
    "        df_sorted = df.sort_values(by=column_name)\n",
    "        \n",
    "        return df_sorted\n",
    "    except FileNotFoundError:\n",
    "        print(\"The file was not found. Please check the file path and try again.\")\n",
    "    except Exception as e:\n",
    "        print(f\"An error occurred: {e}\")\n",
    "\n",
    "if __name__ == \"__main__\":\n",
    "    # Prompt the user for the file path, column name, and category order\n",
    "    file_path = input(\"Enter the CSV file path: \")\n",
    "    column_name = input(\"Enter the column name to convert to categorical: \")\n",
    "    category_order = input(\"Enter the category order (comma-separated): \").split(\",\")\n",
    "    \n",
    "    # Convert to categorical and sort the data\n",
    "    sorted_df = convert_to_categorical(file_path, column_name, category_order)\n",
    "    \n",
    "    # Display the sorted data\n",
    "    if sorted_df is not None:\n",
    "        print(\"Sorted DataFrame:\")\n",
    "        print(sorted_df)\n"
   ]
  },
  {
   "cell_type": "markdown",
   "id": "0d8c5244-18c7-43c3-879c-c3bfbf6336f1",
   "metadata": {},
   "source": [
    "### Q10. Write a Python program that reads a CSV file containing sales data for different products and visualizes the data using a stacked bar chart to show the sales of each product category over time. The program should prompt the user to enter the file path and display the chart."
   ]
  },
  {
   "cell_type": "code",
   "execution_count": 16,
   "id": "af441d05-388b-4f0f-917c-43f89e9a003d",
   "metadata": {},
   "outputs": [
    {
     "name": "stdin",
     "output_type": "stream",
     "text": [
      "Enter the CSV file path:  \"D:/Downloaded/Sales_data.csv\"\n"
     ]
    },
    {
     "data": {
      "image/png": "[encoded data removed]",
      "text/plain": [
       "<Figure size 1000x700 with 1 Axes>"
      ]
     },
     "metadata": {},
     "output_type": "display_data"
    }
   ],
   "source": [
    "import pandas as pd\n",
    "import matplotlib.pyplot as plt\n",
    "\n",
    "def visualize_sales(file_path):\n",
    "    try:\n",
    "        # Read the CSV file\n",
    "        df = pd.read_csv(file_path.strip('\"'))\n",
    "        \n",
    "        # Ensure the 'Date' column is in datetime format\n",
    "        if 'Date' in df.columns:\n",
    "            df['Date'] = pd.to_datetime(df['Date'])\n",
    "        \n",
    "        # Pivot the data to get categories as columns and dates as index\n",
    "        pivot_df = df.pivot_table(index='Date', columns='Product Category', values='Sales', aggfunc='sum').fillna(0)\n",
    "        \n",
    "        # Plot the stacked bar chart\n",
    "        pivot_df.plot(kind='bar', stacked=True, figsize=(10, 7))\n",
    "        \n",
    "        # Set plot labels and title\n",
    "        plt.xlabel('Date')\n",
    "        plt.ylabel('Sales')\n",
    "        plt.title('Sales by Product Category Over Time')\n",
    "        plt.legend(title='Product Category')\n",
    "        \n",
    "        # Show the plot\n",
    "        plt.tight_layout()\n",
    "        plt.show()\n",
    "        \n",
    "    except FileNotFoundError:\n",
    "        print(\"The file was not found. Please check the file path and try again.\")\n",
    "    except Exception as e:\n",
    "        print(f\"An error occurred: {e}\")\n",
    "\n",
    "if __name__ == \"__main__\":\n",
    "    # Prompt the user for the file path\n",
    "    file_path = input(\"Enter the CSV file path: \")\n",
    "    \n",
    "    # Visualize sales data\n",
    "    visualize_sales(file_path)\n"
   ]
  },
  {
   "cell_type": "markdown",
   "id": "de4100a5-ac76-4b96-b434-37ad3d5243b8",
   "metadata": {},
   "source": [
    "### Q11. You are given a CSV file containing student data that includes the student ID and their test score. Write \n",
    "a Python program that reads the CSV file, calculates the mean, median, and mode of the test scores, an \r\n",
    "displays the results in a tabl display the results\r\n",
    "in a table."
   ]
  },
  {
   "cell_type": "code",
   "execution_count": 19,
   "id": "1ce62f32-c39a-4b61-9cc3-cffe37f0ad11",
   "metadata": {},
   "outputs": [],
   "source": [
    "import numpy as np"
   ]
  },
  {
   "cell_type": "code",
   "execution_count": 20,
   "id": "af2053e3-5bf3-48dc-9d8b-69cb1fd38da2",
   "metadata": {},
   "outputs": [
    {
     "name": "stdin",
     "output_type": "stream",
     "text": [
      "Enter the file path of the CSV file containing the student data:  \"D:/Downloaded/student_data.csv\"\n"
     ]
    },
    {
     "name": "stdout",
     "output_type": "stream",
     "text": [
      "+-----------+--------+\n",
      "| Statistic | Value  |\n",
      "+-----------+--------+\n",
      "| Mean      | 83.5 |\n",
      "| Median    | 85.0 |\n",
      "| Mode      | 85 |\n",
      "+-----------+--------+\n"
     ]
    }
   ],
   "source": [
    "import pandas as pd\n",
    "from scipy import stats\n",
    "\n",
    "def calculate_statistics(file_path):\n",
    "    try:\n",
    "        # Read the CSV file into a DataFrame\n",
    "        df = pd.read_csv(file_path.strip('\"'))\n",
    "        \n",
    "        # Ensure the 'Test Score' column exists\n",
    "        if 'Test Score' not in df.columns:\n",
    "            raise ValueError(\"The CSV file must contain a 'Test Score' column.\")\n",
    "        \n",
    "        # Calculate mean, median, and mode\n",
    "        mean_score = df['Test Score'].mean()\n",
    "        median_score = df['Test Score'].median()\n",
    "        mode_scores = stats.mode(df['Test Score'])[0]\n",
    "        \n",
    "        # Convert mode_scores to a list if it is not already\n",
    "        if isinstance(mode_scores, (int, float, np.integer)):\n",
    "            mode_scores = [mode_scores]\n",
    "        else:\n",
    "            mode_scores = mode_scores.tolist()\n",
    "        \n",
    "        # Convert mode_scores to a string of comma-separated values\n",
    "        mode_str = \", \".join(map(str, mode_scores))\n",
    "        \n",
    "        # Display the results in a table\n",
    "        result_df = pd.DataFrame({\n",
    "            'Statistic': ['Mean', 'Median', 'Mode'],\n",
    "            'Value': [mean_score, median_score, mode_str]\n",
    "        })\n",
    "        \n",
    "        print(\"+-----------+--------+\")\n",
    "        print(\"| Statistic | Value  |\")\n",
    "        print(\"+-----------+--------+\")\n",
    "        for index, row in result_df.iterrows():\n",
    "            print(f\"| {row['Statistic']:<9} | {row['Value']} |\")\n",
    "        print(\"+-----------+--------+\")\n",
    "        \n",
    "    except FileNotFoundError:\n",
    "        print(\"The file was not found. Please check the file path and try again.\")\n",
    "    except ValueError as ve:\n",
    "        print(ve)\n",
    "    except Exception as e:\n",
    "        print(f\"An error occurred: {e}\")\n",
    "\n",
    "if __name__ == \"__main__\":\n",
    "    # Prompt the user for the file path\n",
    "    file_path = input(\"Enter the file path of the CSV file containing the student data: \")\n",
    "    \n",
    "    # Calculate and display statistics\n",
    "    calculate_statistics(file_path)\n"
   ]
  },
  {
   "cell_type": "code",
   "execution_count": null,
   "id": "6801b2e0-2865-41f2-9ae3-c35736e272ff",
   "metadata": {},
   "outputs": [],
   "source": []
  }
 ],
 "metadata": {
  "kernelspec": {
   "display_name": "Python 3 (ipykernel)",
   "language": "python",
   "name": "python3"
  },
  "language_info": {
   "codemirror_mode": {
    "name": "ipython",
    "version": 3
   },
   "file_extension": ".py",
   "mimetype": "text/x-python",
   "name": "python",
   "nbconvert_exporter": "python",
   "pygments_lexer": "ipython3",
   "version": "3.12.4"
  }
 },
 "nbformat": 4,
 "nbformat_minor": 5
}
