{
 "cells": [
  {
   "cell_type": "markdown",
   "id": "9aef6c8c-0ec8-48b2-b7a1-b86fa1008302",
   "metadata": {},
   "source": [
    "### Q1. What is a database? Differentiate between SQL and NoSQL databases."
   ]
  },
  {
   "cell_type": "markdown",
   "id": "f15295d3-9e54-4f74-887c-ea54ff41211a",
   "metadata": {},
   "source": [
    "#### Database:\n",
    "\n",
    "A database is an organized collection of structured information, or data, typically stored electronically in a computer system. Databases are managed by a Database Management System (DBMS), which allows users to interact with the data using various querying and manipulation techniques.\n",
    "\n",
    "#### Differences Between SQL and NoSQL Databases\n",
    "\n",
    "| Feature                | SQL Databases                             | NoSQL Databases                          |\n",
    "|------------------------|-------------------------------------------|------------------------------------------|\n",
    "| **Data Model**         | Relational (tables with rows and columns) | Non-relational (document, key-value, wide-column, graph) |\n",
    "| **Schema**             | Fixed schema with predefined structure    | Flexible schema, schema-less             |\n",
    "| **Query Language**     | Structured Query Language (SQL)           | Varies (e.g., MongoDB uses MQL, Cassandra uses CQL) |\n",
    "| **Scalability**        | Vertically scalable (add more power to existing servers) | Horizontally scalable (add more servers) |\n",
    "| **Transactions**       | ACID (Atomicity, Consistency, Isolation, Durability) | BASE (Basically Available, Soft state, Eventual consistency) |\n",
    "| **Use Cases**          | Complex queries, structured data, transactional systems | Big data, real-time analytics, unstructured or semi-structured data |\n",
    "| **Examples**           | MySQL, PostgreSQL, Oracle Database        | MongoDB, Cassandra, Redis, Couchbase     |\n"
   ]
  },
  {
   "cell_type": "markdown",
   "id": "5b6da046-1603-43f3-b1d6-2ecf63afa0d8",
   "metadata": {},
   "source": [
    "### Q2. What is DDL? Explain why CREATE, DROP, ALTER, and TRUNCATE are used with an example."
   ]
  },
  {
   "cell_type": "markdown",
   "id": "dc1b4a32-3b19-4dec-802f-7bf83a874f2e",
   "metadata": {},
   "source": [
    "#### DDL:\n",
    "\n",
    "DDL stands for **Data Definition Language**, a subset of SQL used to define and manage database structures such as schemas, tables, indexes, and relationships. DDL statements are used to create, modify, and delete database objects.\n",
    "\n",
    "#### Common DDL Commands:\n",
    "\n",
    "1. **CREATE:** Used to create new database objects such as tables, indexes, or schemas.\n",
    "2. **DROP:** Used to delete existing database objects.\n",
    "3. **ALTER:** Used to modify existing database objects.\n",
    "4. **TRUNCATE:** Used to delete all rows from a table quickly without logging individual row deletions.\n",
    "\n",
    "#### Examples\n",
    "\n",
    "#### CREATE\n",
    "```sql\n",
    "CREATE TABLE employees (\n",
    "    id INT PRIMARY KEY,\n",
    "    name VARCHAR(100),\n",
    "    position VARCHAR(100),\n",
    "    salary DECIMAL(10, 2)\n",
    ");\n",
    "```\n",
    "- **Purpose:** Creates a new table named `employees` with columns `id`, `name`, `position`, and `salary`.\n",
    "\n",
    "#### DROP\n",
    "```sql\n",
    "DROP TABLE employees;\n",
    "```\n",
    "- **Purpose:** Deletes the `employees` table and all its data from the database.\n",
    "\n",
    "#### ALTER\n",
    "```sql\n",
    "ALTER TABLE employees ADD COLUMN hire_date DATE;\n",
    "```\n",
    "- **Purpose:** Adds a new column `hire_date` to the `employees` table.\n",
    "\n",
    "#### TRUNCATE\n",
    "```sql\n",
    "TRUNCATE TABLE employees;\n",
    "```\n",
    "- **Purpose:** Removes all rows from the `employees` table, but keeps the table structure for future use."
   ]
  },
  {
   "cell_type": "markdown",
   "id": "9ce1b9a7-719d-45b5-a859-3cea1bcbb515",
   "metadata": {},
   "source": [
    "### Q3. What is DML? Explain INSERT, UPDATE, and DELETE with an example."
   ]
  },
  {
   "cell_type": "markdown",
   "id": "5923df7a-e17d-4994-841a-49b63470f026",
   "metadata": {},
   "source": [
    "#### DML:\n",
    "\n",
    "DML stands for **Data Manipulation Language**, a subset of SQL used to manage and manipulate data within database tables. DML commands allow you to insert, update, delete, and retrieve data from a database.\n",
    "\n",
    "#### Common DML Commands:\n",
    "\n",
    "1. **INSERT:** Adds new rows of data to a table.\n",
    "2. **UPDATE:** Modifies existing data within a table.\n",
    "3. **DELETE:** Removes rows of data from a table.\n",
    "\n",
    "#### Examples\n",
    "\n",
    "#### INSERT\n",
    "```sql\n",
    "INSERT INTO employees (id, name, position, salary) \n",
    "VALUES (1, 'John Doe', 'Software Engineer', 75000);\n",
    "```\n",
    "- **Purpose:** Adds a new row to the `employees` table with the specified values for `id`, `name`, `position`, and `salary`.\n",
    "\n",
    "#### UPDATE\n",
    "```sql\n",
    "UPDATE employees \n",
    "SET salary = 80000 \n",
    "WHERE id = 1;\n",
    "```\n",
    "- **Purpose:** Modifies the `salary` of the employee with `id` 1 to 80000 in the `employees` table.\n",
    "\n",
    "#### DELETE\n",
    "```sql\n",
    "DELETE FROM employees \n",
    "WHERE id = 1;\n",
    "```\n",
    "- **Purpose:** Removes the row from the `employees` table where the `id` is 1.\n",
    "\n"
   ]
  },
  {
   "cell_type": "markdown",
   "id": "a5760281-cf22-4300-b061-07dbfcf3c999",
   "metadata": {},
   "source": [
    "### Q4. What is DQL? Explain SELECT with an example."
   ]
  },
  {
   "cell_type": "markdown",
   "id": "58696b50-8248-4be6-87d8-8357344b4d5e",
   "metadata": {},
   "source": [
    "#### DQL:\n",
    "\n",
    "DQL stands for **Data Query Language**, which is a subset of SQL (Structured Query Language) used to retrieve data from a database. DQL commands are primarily focused on querying and fetching data from tables based on specified criteria.\n",
    "\n",
    "#### SELECT Command:\n",
    "\n",
    "The `SELECT` statement is the primary command used in DQL to retrieve data from one or more tables in a database.\n",
    "\n",
    "#### Syntax of SELECT Statement:\n",
    "\n",
    "```sql\n",
    "SELECT column1, column2, ...\n",
    "FROM table_name\n",
    "WHERE condition;\n",
    "```\n",
    "\n"
   ]
  },
  {
   "cell_type": "markdown",
   "id": "b31fc342-67c7-4372-b2a5-ab531066f161",
   "metadata": {},
   "source": [
    "### Q5. Explain Primary Key and Foreign Key."
   ]
  },
  {
   "cell_type": "markdown",
   "id": "dd9a7c7d-6210-416f-ae49-105d8c691e95",
   "metadata": {},
   "source": [
    "### Primary Key\n",
    "\n",
    "- **Definition:** A Primary Key is a column or a set of columns in a table that uniquely identifies each row in that table. It must contain unique values and cannot have NULL values.\n",
    "- **Purpose:**\n",
    "  - **Uniqueness:** Ensures that each row in a table can be uniquely identified.\n",
    "  - **Indexing:** Automatically creates a clustered index on the primary key column(s), which can improve query performance.\n",
    "- **Example:** In a `students` table, `student_id` can be designated as the primary key because each student has a unique ID.\n",
    "\n",
    "### Foreign Key\n",
    "\n",
    "- **Definition:** A Foreign Key is a column or a set of columns in one table that refers to the Primary Key in another table. It establishes a link between two tables.\n",
    "- **Purpose:**\n",
    "  - **Referential Integrity:** Ensures that relationships between tables are maintained by enforcing referential integrity constraints.\n",
    "  - **Joins:** Allows you to join related tables together to retrieve data.\n",
    "- **Example:** In a `orders` table, `customer_id` might be a foreign key that references the `customer_id` primary key in a `customers` table, linking each order to a specific customer.\n"
   ]
  },
  {
   "cell_type": "markdown",
   "id": "a079d8a1-4386-41e5-9a8c-99b6b4ca1ac8",
   "metadata": {},
   "source": [
    "### Q6. Write a python code to connect MySQL to python. Explain the cursor() and execute() method."
   ]
  },
  {
   "cell_type": "markdown",
   "id": "f0346196-8099-4c1c-9fa0-564a8f5b30ba",
   "metadata": {},
   "source": [
    "#### Connecting MySQL to Python\n",
    "\n",
    "To connect MySQL to Python, you can use the `mysql-connector-python` package, which provides a MySQL driver for Python.\n",
    "\n",
    "Python code snippet to connect to MySQL and perform a simple query:\n",
    "\n",
    "```python\n",
    "import mysql.connector\n",
    "\n",
    "# Establishing a connection to the MySQL server\n",
    "mydb = mysql.connector.connect(\n",
    "  host=\"localhost\",\n",
    "  user=\"yourusername\",\n",
    "  password=\"yourpassword\",\n",
    "  database=\"yourdatabase\"\n",
    ")\n",
    "\n",
    "# Creating a cursor object using cursor() method\n",
    "mycursor = mydb.cursor()\n",
    "\n",
    "# Using execute() method to execute a SQL query\n",
    "mycursor.execute(\"SELECT * FROM yourtable\")\n",
    "\n",
    "# Fetching all rows from the result set\n",
    "results = mycursor.fetchall()\n",
    "\n",
    "# Printing each row\n",
    "for row in results:\n",
    "    print(row)\n",
    "\n",
    "# Closing the cursor and connection\n",
    "mycursor.close()\n",
    "mydb.close()\n",
    "```\n",
    "\n",
    "\n",
    "\n",
    "#### `cursor()` and `execute()` Method Explanation:\n",
    "\n",
    "- **`cursor()` Method:**\n",
    "  - The `cursor()` method creates a cursor object that allows you to execute SQL queries on the database. It's invoked on the connection object (`mydb` in this case).\n",
    "  \n",
    "- **`execute()` Method:**\n",
    "  - The `execute()` method of the cursor object (`mycursor`) is used to execute SQL queries. You pass the SQL query as a string parameter to this method. It can execute any SQL statement supported by MySQL (e.g., `SELECT`, `INSERT`, `UPDATE`, `DELETE`).\n"
   ]
  },
  {
   "cell_type": "markdown",
   "id": "45941368-86a3-4b35-a3c4-eeea9991d95a",
   "metadata": {},
   "source": [
    "### Q7. Give the order of execution of SQL clauses in an SQL query."
   ]
  },
  {
   "cell_type": "markdown",
   "id": "a2f2adde-898b-45d3-9759-03bb1d50bb9a",
   "metadata": {},
   "source": [
    "In SQL, the order of execution of clauses in a query generally follows a standard sequence, although the exact behavior can vary slightly depending on the DBMS implementation. Here is the typical order of execution:\n",
    "\n",
    "1. **FROM:** Specifies the tables or views from which data will be retrieved.\n",
    "2. **WHERE:** Filters rows based on specified conditions.\n",
    "3. **GROUP BY:** Groups rows that have the same values into summary rows.\n",
    "4. **HAVING:** Filters groups based on specified conditions (used with `GROUP BY`).\n",
    "5. **SELECT:** Retrieves the columns specified from the result set.\n",
    "6. **DISTINCT:** Removes duplicate rows from the result set.\n",
    "7. **ORDER BY:** Sorts the rows in the result set based on specified criteria.\n",
    "8. **LIMIT/OFFSET:** Limits the number of rows returned and optionally specifies a starting point for returning rows.\n",
    "\n",
    "### Example:\n",
    "\n",
    "```sql\n",
    "SELECT column1, column2\n",
    "FROM table_name\n",
    "WHERE condition\n",
    "GROUP BY column1\n",
    "HAVING count(*) > 1\n",
    "ORDER BY column2 DESC\n",
    "LIMIT 10 OFFSET 5;\n",
    "```\n"
   ]
  },
  {
   "cell_type": "code",
   "execution_count": null,
   "id": "9322c89a-ff6a-4cdb-8d08-3a08edb2c88d",
   "metadata": {},
   "outputs": [],
   "source": []
  }
 ],
 "metadata": {
  "kernelspec": {
   "display_name": "Python 3 (ipykernel)",
   "language": "python",
   "name": "python3"
  },
  "language_info": {
   "codemirror_mode": {
    "name": "ipython",
    "version": 3
   },
   "file_extension": ".py",
   "mimetype": "text/x-python",
   "name": "python",
   "nbconvert_exporter": "python",
   "pygments_lexer": "ipython3",
   "version": "3.11.7"
  }
 },
 "nbformat": 4,
 "nbformat_minor": 5
}
