{
 "cells": [
  {
   "cell_type": "markdown",
   "id": "193cc691-dae5-4722-a906-b411be9f33f1",
   "metadata": {},
   "source": [
    "### Q1. What are the three measures of central tendency?"
   ]
  },
  {
   "cell_type": "markdown",
   "id": "00cc6587-f90a-40c7-b6b7-e9594d6277da",
   "metadata": {},
   "source": [
    "The three measures of central tendency are:\n",
    "\n",
    "1. **Mean (Average):**\n",
    "   - The sum of all values divided by the number of values.\n",
    "\n",
    "2. **Median:**\n",
    "   - The middle value when the data is arranged in ascending or descending order.\n",
    "\n",
    "3. **Mode:**\n",
    "   - The value that appears most frequently in the dataset."
   ]
  },
  {
   "cell_type": "markdown",
   "id": "29babc1a-5c23-4535-9a70-16a7343350e7",
   "metadata": {},
   "source": [
    "### Q2. What is the difference between the mean, median, and mode? How are they used to measure the central tendency of a dataset?"
   ]
  },
  {
   "cell_type": "markdown",
   "id": "431fa464-4ad4-4c31-80d9-ae704c787a04",
   "metadata": {},
   "source": [
    "\n",
    "| **Measure** | **Calculation**                                                                 | **Use**                                       | **Example**                                           |\n",
    "|-------------|---------------------------------------------------------------------------------|-----------------------------------------------|-------------------------------------------------------|\n",
    "| **Mean**    | Sum of all values divided by the number of values.                              | Represents the central value; sensitive to outliers. | For dataset [1, 2, 3, 4, 5]: Mean = (1+2+3+4+5)/5 = 3 |\n",
    "| **Median**  | Middle value when data is ordered; average of two middle values if even number of values. | Represents the central point; not affected by outliers. | For dataset [1, 2, 3, 4, 5]: Median = 3; For [1, 2, 3, 4]: Median = (2+3)/2 = 2.5 |\n",
    "| **Mode**    | Value that occurs most frequently in the dataset.                              | Indicates the most common value; applicable to both numerical and categorical data. | For dataset [1, 2, 2, 3, 4]: Mode = 2 |\n",
    "\n"
   ]
  },
  {
   "cell_type": "markdown",
   "id": "762a8bbb-61ab-491a-bbd9-0b9d69ae3405",
   "metadata": {},
   "source": [
    "### Q3. Measure the three measures of central tendency for the given height data:\n",
    "[178,177,176,177,178.2,178,175,179,180,175,178.9,176.2,177,172.5,178,176.5]"
   ]
  },
  {
   "cell_type": "markdown",
   "id": "5ade7249-09c8-4af2-ba89-e8e3a9baff11",
   "metadata": {},
   "source": [
    "#### 1. **Mean:**\n",
    "- **Formula:** \\(\\text{Mean} = \\frac{\\sum \\text{values}}{\\text{number of values}}\\)\n",
    "- **Calculation:** \\(\\text{Mean} = \\frac{2844.3}{16} = 177.77\\)\n",
    "\n",
    "#### 2. **Median:**\n",
    "- **Steps:** \n",
    "  - Sort the data.\n",
    "  - Find the middle values (for an even number of observations, take the average of the two central values).\n",
    "- **Sorted Data:** `[172.5, 175, 175, 176, 176.2, 176.5, 177, 177, 177, 178, 178, 178.2, 178.9, 179, 180]`\n",
    "- **Median Calculation:** \\(\\text{Median} = \\frac{177 + 177}{2} = 177\\)\n",
    "\n",
    "#### 3. **Mode:**\n",
    "- **Steps:** \n",
    "  - Identify the value(s) that occur most frequently.\n",
    "- **Frequency:**\n",
    "  - 175: 2 times\n",
    "  - 176: 3 times\n",
    "  - 176.2: 1 time\n",
    "  - 176.5: 1 time\n",
    "  - 177: 3 times\n",
    "  - 178: 3 times\n",
    "  - 178.2: 1 time\n",
    "  - 178.9: 1 time\n",
    "  - 179: 1 time\n",
    "  - 180: 1 time\n",
    "- **Modes:** 176, 177, 178\n",
    "\n",
    "#### 4. **Summary Table** :\n",
    "| **Measure** | **Value**      |\n",
    "|-------------|----------------|\n",
    "| **Mean**    | 177.77         |\n",
    "| **Median**  | 177            |\n",
    "| **Mode**    | 176, 177, 178  |"
   ]
  },
  {
   "cell_type": "markdown",
   "id": "dacff005-cd61-4690-a9a6-ed5791dbc363",
   "metadata": {},
   "source": [
    "### Q4. Find the standard deviation for the given data:\n",
    "[178,177,176,177,178.2,178,175,179,180,175,178.9,176.2,177,172.5,178,176.5]"
   ]
  },
  {
   "cell_type": "markdown",
   "id": "a3b64c7d-29a5-4f27-8294-6e8b25355a73",
   "metadata": {},
   "source": [
    "To find the standard deviation for the given data set followed the steps:\n",
    "\n",
    "1. **Calculate the mean:**\n",
    "   \\[\n",
    "   \\text{Mean} = \\frac{\\sum \\text{values}}{\\text{number of values}} = \\frac{2844.3}{16} = 177.77\n",
    "   \\]\n",
    "\n",
    "2. **Calculate each value's deviation from the mean, square it, and sum these squared deviations:**\n",
    "\n",
    "   \\[\n",
    "   \\sum (x_i - \\text{Mean})^2 = \\sum (x_i - 177.77)^2\n",
    "   \\]\n",
    "\n",
    "3. **Calculate each deviation:**\n",
    "\n",
    "   \\[\n",
    "   \\begin{align*}\n",
    "   (178 - 177.77)^2 = 0.053^2 = 0.002809 \\\\\n",
    "   (177 - 177.77)^2 = (-0.77)^2 = 0.5929 \\\\\n",
    "   (176 - 177.77)^2 = (-1.77)^2 = 3.1329 \\\\\n",
    "   (177 - 177.77)^2 = (-0.77)^2 = 0.5929 \\\\\n",
    "   (178.2 - 177.77)^2 = 0.43^2 = 0.1849 \\\\\n",
    "   (178 - 177.77)^2 = 0.23^2 = 0.0529 \\\\\n",
    "   (175 - 177.77)^2 = (-2.77)^2 = 7.6729 \\\\\n",
    "   (179 - 177.77)^2 = 1.23^2 = 1.5129 \\\\\n",
    "   (180 - 177.77)^2 = 2.23^2 = 4.9729 \\\\\n",
    "   (175 - 177.77)^2 = (-2.77)^2 = 7.6729 \\\\\n",
    "   (178.9 - 177.77)^2 = 1.13^2 = 1.2769 \\\\\n",
    "   (176.2 - 177.77)^2 = (-1.57)^2 = 2.4649 \\\\\n",
    "   (177 - 177.77)^2 = (-0.77)^2 = 0.5929 \\\\\n",
    "   (172.5 - 177.77)^2 = (-5.27)^2 = 27.7729 \\\\\n",
    "   (178 - 177.77)^2 = 0.23^2 = 0.0529 \\\\\n",
    "   (176.5 - 177.77)^2 = (-1.27)^2 = 1.6129\n",
    "   \\end{align*}\n",
    "   \\]\n",
    "\n",
    "4. **Sum the squared deviations:**\n",
    "   \\[\n",
    "   0.002809 + 0.5929 + 3.1329 + 0.5929 + 0.1849 + 0.0529 + 7.6729 + 1.5129 + 4.9729 + 7.6729 + 1.2769 + 2.4649 + 0.5929 + 27.7729 + 0.0529 + 1.6129 = 60.2789\n",
    "   \\]\n",
    "\n",
    "5. **Calculate the variance:**\n",
    "   \\[\n",
    "   \\text{Variance} = \\frac{60.2789}{16} = 3.7674\n",
    "   \\]\n",
    "\n",
    "6. **Calculate the standard deviation:**\n",
    "   \\[\n",
    "   \\text{Standard Deviation} = \\sqrt{3.7674} \\approx 1.940\n",
    "   \\]\n",
    "\n",
    "#### Summary:\n",
    "\n",
    "- **Standard Deviation:** 1.940"
   ]
  },
  {
   "cell_type": "markdown",
   "id": "f45e6d4b-7a46-4c10-8df6-78393e17b9cf",
   "metadata": {},
   "source": [
    "### Q5. How are measures of dispersion such as range, variance, and standard deviation used to describe the spread of a dataset? Provide an example."
   ]
  },
  {
   "cell_type": "markdown",
   "id": "ec1bac9a-0093-463f-a392-9489ed3fe12d",
   "metadata": {},
   "source": [
    "#### Measures of Dispersion\n",
    "\n",
    "**1. Range**\n",
    "   - **Definition:** Difference between the maximum and minimum values in a dataset.\n",
    "   - **Usage:** Provides a quick sense of the data spread.\n",
    "   - **Example:** For the dataset `[10, 12, 15, 20, 25]`, the range is `25 - 10 = 15`.\n",
    "\n",
    "**2. Variance**\n",
    "   - **Definition:** Average of the squared differences from the mean.\n",
    "   - **Usage:** Measures the extent to which each number in the dataset varies from the mean.\n",
    "   - **Example:** For the dataset `[10, 12, 15, 20, 25]`, the variance is calculated as:\n",
    "     \\[\n",
    "     \\text{Variance} = \\frac{(10-16.4)^2 + (12-16.4)^2 + (15-16.4)^2 + (20-16.4)^2 + (25-16.4)^2}{5} = 27.84\n",
    "     \\]\n",
    "\n",
    "**3. Standard Deviation**\n",
    "   - **Definition:** Square root of the variance.\n",
    "   - **Usage:** Provides a measure of dispersion in the same unit as the data.\n",
    "   - **Example:** For the dataset `[10, 12, 15, 20, 25]`, with a variance of `27.84`, the standard deviation is:\n",
    "     \\[\n",
    "     \\text{Standard Deviation} = \\sqrt{27.84} \\approx 5.28\n",
    "     \\]\n",
    "\n",
    "#### Example\n",
    "\n",
    "#### Dataset A: `[50, 52, 54, 56, 58]`\n",
    "- **Range:** `8`\n",
    "- **Variance:** `5`\n",
    "- **Standard Deviation:** `√5 ≈ 2.24`\n",
    "\n",
    "#### Dataset B: `[30, 40, 50, 60, 70]`\n",
    "- **Range:** `40`\n",
    "- **Variance:** `200`\n",
    "- **Standard Deviation:** `√200 ≈ 14.14`\n"
   ]
  },
  {
   "cell_type": "markdown",
   "id": "fc8c031f-2bdb-427d-8f1b-ff6e1a8bddd0",
   "metadata": {},
   "source": [
    "### Q6. What is a Venn diagram?"
   ]
  },
  {
   "cell_type": "markdown",
   "id": "50e7e657-a2b5-470a-974a-ffd6f0a4515b",
   "metadata": {},
   "source": [
    "A Venn diagram is a visual tool used to illustrate the relationships between different sets. It consists of overlapping circles, each representing a set, with the overlapping areas showing common elements between the sets. Venn diagrams are commonly used to show:\n",
    "\n",
    "- **Union**: All elements in either set.\n",
    "- **Intersection**: Elements common to both sets.\n",
    "- **Difference**: Elements in one set but not the other.\n",
    "\n",
    "They help in understanding the logical relationships and commonalities between multiple sets."
   ]
  },
  {
   "cell_type": "markdown",
   "id": "d4abee55-e6ed-406f-a7c9-2300da1ed5e4",
   "metadata": {},
   "source": [
    "### Q7. For the two given sets A = {2,3,4,5,6,7} & B = {0,2,6,8,10}. Find:\n",
    "1. A intersectrion B\n",
    "2. A ⋃ B"
   ]
  },
  {
   "cell_type": "markdown",
   "id": "c6fdc9b3-d38d-4340-9049-3e9419dddbec",
   "metadata": {},
   "source": [
    "Given the sets \\( A = \\{2, 3, 4, 5, 6, 7\\} \\) and \\( B = \\{0, 2, 6, 8, 10\\} \\):\n",
    "\n",
    "(i) \\( A Intersection B)\\: Elements common to both sets = \\{2, 6\\}\n",
    "\n",
    "(ii) \\( A Union B)\\: All unique elements from both sets = \\{0, 2, 3, 4, 5, 6, 7, 8, 10\\}"
   ]
  },
  {
   "cell_type": "markdown",
   "id": "bddb67a9-ff52-4de3-b9b2-cfcb8b170c19",
   "metadata": {},
   "source": [
    "### Q8. What do you understand about skewness in data?"
   ]
  },
  {
   "cell_type": "markdown",
   "id": "35b7d04f-ecfa-44c8-a6a9-23935417129c",
   "metadata": {},
   "source": [
    "Skewness in data refers to the asymmetry in the distribution of values:\n",
    "\n",
    "- **Positive Skewness (Right Skewness):** The tail on the right side of the distribution is longer or fatter. Most values are concentrated on the left.\n",
    "- **Negative Skewness (Left Skewness):** The tail on the left side of the distribution is longer or fatter. Most values are concentrated on the right.\n",
    "- **Zero Skewness (Symmetrical Distribution):** The distribution is perfectly symmetrical, with no skew."
   ]
  },
  {
   "cell_type": "markdown",
   "id": "8f624aff-ec19-4df1-a7ab-5758d3e6e02a",
   "metadata": {},
   "source": [
    "### Q9. If a data is right skewed then what will be the position of median with respect to mean?\n"
   ]
  },
  {
   "cell_type": "markdown",
   "id": "573d95a7-c328-49f3-be02-ef8fe30a905d",
   "metadata": {},
   "source": [
    "If data is right skewed (positively skewed), the mean will be greater than the median. This is because the longer tail on the right side pulls the mean to the right, while the median remains closer to the center of the distribution."
   ]
  },
  {
   "cell_type": "markdown",
   "id": "0db48794-490d-415a-a244-426ee81d19e2",
   "metadata": {},
   "source": [
    "### Q10. Explain the difference between covariance and correlation. How are these measures used in statistical analysis?"
   ]
  },
  {
   "cell_type": "markdown",
   "id": "34f3717f-1469-4506-a528-7406d0199fa5",
   "metadata": {},
   "source": [
    "#### Difference Between Covariance and Correlation\n",
    "\n",
    "| Aspect       | Covariance                                                                 | Correlation                                                                                  |\n",
    "|--------------|----------------------------------------------------------------------------|---------------------------------------------------------------------------------------------|\n",
    "| Definition   | Measures the degree to which two variables change together.                | Measures the strength and direction of the linear relationship between two variables.        |\n",
    "| Scale        | Depends on the units of the variables, making it difficult to interpret.   | Standardized, ranging from -1 to 1, making it easier to interpret.                           |\n",
    "| Calculation  | Calculated using the product of the deviations of each variable from their mean. | Calculated by dividing the covariance by the product of the standard deviations of the variables. |\n",
    "| Range        | Unbounded, can take any value.                                             | Bounded between -1 and 1.                                                                    |\n",
    "| Interpretation | Positive values indicate that variables move in the same direction, and negative values indicate they move in opposite directions. | Positive values indicate a positive relationship, negative values indicate a negative relationship, and values close to 0 indicate no relationship. |\n",
    "\n",
    "#### Usage in Statistical Analysis\n",
    "\n",
    "- **Covariance**: Used to determine the direction of the linear relationship between variables. It helps to understand if variables increase or decrease together. However, because it is not standardized, it is difficult to compare the strength of relationships between different pairs of variables.\n",
    "\n",
    "- **Correlation**: Used to determine both the strength and direction of the linear relationship between variables. It is widely used in statistics because it provides a clear and standardized measure that allows for easy comparison across different datasets. Correlation is often used in regression analysis, portfolio management, and various other fields to understand relationships between variables.\n",
    "\n",
    "#### Example\n",
    "\n",
    "- **Covariance**: If you have two stocks, covariance can help determine if the stocks move together. A positive covariance indicates that the stocks tend to move in the same direction, while a negative covariance indicates they move in opposite directions.\n",
    "\n",
    "- **Correlation**: If you want to compare the relationship between height and weight across different populations, correlation provides a standardized measure that makes it easy to compare these relationships, regardless of the scale of the measurements in different populations."
   ]
  },
  {
   "cell_type": "markdown",
   "id": "16bc5c9f-7818-4948-9203-db7427c8658e",
   "metadata": {},
   "source": [
    "### Q11. What is the formula for calculating the sample mean? Provide an example calculation for a dataset."
   ]
  },
  {
   "cell_type": "markdown",
   "id": "b8ee4c2c-2dd5-4620-b7eb-187c71165df5",
   "metadata": {},
   "source": [
    "**Sample Mean = Sum of observation / Number of observation**\n",
    "#### **Example:** \n",
    "data set = {1 , 2, 3, 4, 5, 6}\n",
    "mean = (1+2+3+4+5+6) / 6 = 10.5"
   ]
  },
  {
   "cell_type": "markdown",
   "id": "b26bd4dc-6ae0-4941-b457-cc095d1e8a52",
   "metadata": {},
   "source": [
    "### Q12. For a normal distribution data what is the relationship between its measure of central tendency?"
   ]
  },
  {
   "cell_type": "markdown",
   "id": "2242ebb8-5add-4f8c-aa36-723d33aa04b4",
   "metadata": {},
   "source": [
    "For a normal distribution, the relationship between its measures of central tendency is as follows:\n",
    "\n",
    "### Relationship\n",
    "\n",
    "\n",
    "- **Mean (μ)**: The mean of a normal distribution is the point where the peak of the distribution occurs.\n",
    "- **Median**: In a normal distribution, the median is equal to the mean because the distribution is symmetric.\n",
    "- **Mode**: The mode, which is the value that appears most frequently, is also equal to the mean in a normal distribution.\n",
    "\n",
    "**In a perfect normal distribution:**\n",
    "Mean = Median = Mode"
   ]
  },
  {
   "cell_type": "markdown",
   "id": "eab144a8-6a6c-4203-a5cf-be09922e49cb",
   "metadata": {},
   "source": [
    "### Q13. How is covariance different from correlation?"
   ]
  },
  {
   "cell_type": "markdown",
   "id": "894d624c-c1a6-43c1-9801-e5acc8d56539",
   "metadata": {},
   "source": [
    "| Aspect            | Covariance                                             | Correlation                                              |\r\n",
    "|-------------------|--------------------------------------------------------|----------------------------------------------------------|\r\n",
    "| **Definition**    | Measures the degree to which two variables change together. | Measures the strength and direction of the linear relationship between two variables. |\r\n",
    "| **Formula**       | Cov(X, Y) = (1 / (n - 1)) * Σ[(X_i - X̄) * (Y_i - Ȳ)] | Corr(X, Y) = Cov(X, Y) / (σ_X * σ_Y) |\r\n",
    "| **Units**         | Units are the product of the units of the two variables. | Dimensionless (unitless).                                |\r\n",
    "| **Range**         | From negative to positive infinity.                   | Ranges from -1 to 1.                                    |\r\n",
    "| **Interpretation**| Difficult to interpret directly due to units.         | Easier to interpret due to standardization.             |\r\n",
    "| **Comparison**    | Values are not standardized; can be hard to compare.  | Provides a clear measure of relationship strength and direction. |\r\n"
   ]
  },
  {
   "cell_type": "markdown",
   "id": "233fd964-e974-4213-8d4c-96b795eaa9f3",
   "metadata": {},
   "source": [
    "### Q14. How do outliers affect measures of central tendency and dispersion? Provide an example."
   ]
  },
  {
   "cell_type": "markdown",
   "id": "b5614c7f-c099-413d-9c9a-9f0edebf0b72",
   "metadata": {},
   "source": [
    "#### **Impact on Measures of Central Tendency**\n",
    "\n",
    "| Measure       | Effect of Outliers                            | Example                                             |\n",
    "|---------------|------------------------------------------------|-----------------------------------------------------|\n",
    "| **Mean**      | Highly affected; outliers can skew the mean.  | Dataset: [2, 4, 4, 5, 6, 9, 100]; Mean = 18.57     |\n",
    "| **Median**    | Less affected; remains stable with outliers.  | Dataset: [2, 4, 4, 5, 6, 9, 100]; Median = 5       |\n",
    "| **Mode**      | Unaffected unless outlier is the most frequent.| Dataset: [1, 2, 2, 3, 100]; Mode = 2               |\n",
    "\n",
    "#### **Impact on Measures of Dispersion**\n",
    "\n",
    "| Measure             | Effect of Outliers                            | Example                                             |\n",
    "|---------------------|------------------------------------------------|-----------------------------------------------------|\n",
    "| **Range**           | Highly affected; increases with outliers.     | Dataset: [2, 4, 4, 5, 6, 9, 100]; Range = 98      |\n",
    "| **Variance**        | Increased due to large squared deviations.    | Dataset: [2, 4, 4, 5, 6, 9, 100]; Variance = 1192.8 |\n",
    "| **Standard Deviation** | Increased as it is the square root of variance. | Dataset: [2, 4, 4, 5, 6, 9, 100]; SD = 34.54    |\n",
    "\n",
    "#### **Summary Example**\n",
    "\n",
    "1. **Without Outliers**:\n",
    "   - **Dataset A**: [2, 3, 4, 5, 6]\n",
    "     - Mean: 4\n",
    "     - Median: 4\n",
    "     - Range: 4\n",
    "     - Variance: 2.5\n",
    "     - Standard Deviation: 1.58\n",
    "\n",
    "2. **With Outliers**:\n",
    "   - **Dataset B**: [2, 3, 4, 5, 100]\n",
    "     - Mean: 22.8\n",
    "     - Median: 4\n",
    "     - Range: 98\n",
    "     - Variance: 1192.8\n",
    "     - Standard Deviation: 34.54"
   ]
  },
  {
   "cell_type": "markdown",
   "id": "e156d464-8dcf-4b12-be25-af7e16e7899b",
   "metadata": {},
   "source": []
  }
 ],
 "metadata": {
  "kernelspec": {
   "display_name": "Python 3 (ipykernel)",
   "language": "python",
   "name": "python3"
  },
  "language_info": {
   "codemirror_mode": {
    "name": "ipython",
    "version": 3
   },
   "file_extension": ".py",
   "mimetype": "text/x-python",
   "name": "python",
   "nbconvert_exporter": "python",
   "pygments_lexer": "ipython3",
   "version": "3.12.4"
  }
 },
 "nbformat": 4,
 "nbformat_minor": 5
}
