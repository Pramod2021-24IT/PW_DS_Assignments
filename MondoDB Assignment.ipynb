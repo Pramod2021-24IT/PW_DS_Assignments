{
 "cells": [
  {
   "cell_type": "markdown",
   "id": "54e89a18-f14b-4178-889d-d8ba5bfb3a92",
   "metadata": {},
   "source": [
    "### Q1. What is MongoDB? Explain non-relational databases in short. In which scenarios it is preferred to use \n",
    "MongoDB over SQL databases?"
   ]
  },
  {
   "cell_type": "markdown",
   "id": "e932c9d4-d502-4982-83de-1000ec4ad05e",
   "metadata": {},
   "source": [
    "#### A1. MongoDB:\n",
    "\n",
    "MongoDB is a popular NoSQL, document-oriented database that stores data in flexible, JSON-like documents. It is designed for high performance, high availability, and easy scalability. Instead of using tables and rows as in traditional relational databases, MongoDB uses collections and documents, which allows for a more dynamic and flexible data model.\n",
    "\n",
    "#### Non-Relational Databases\n",
    "\n",
    "Non-relational databases, often referred to as NoSQL databases, do not use the traditional table-based schema of relational databases. Instead, they use a variety of data models, including:\n",
    "\n",
    "- **Document-Oriented**: Stores data in JSON-like documents (e.g., MongoDB).\n",
    "- **Key-Value**: Data is stored as key-value pairs (e.g., Redis).\n",
    "- **Column-Family**: Data is stored in columns rather than rows (e.g., Cassandra).\n",
    "- **Graph**: Stores data as nodes, edges, and properties, which is useful for relationship-heavy data (e.g., Neo4j).\n",
    "\n",
    "#### When to Prefer MongoDB Over SQL Databases\n",
    "\n",
    "MongoDB is preferred over SQL databases in scenarios where:\n",
    "\n",
    "1. **Flexible Schema**: When the data model is evolving and requires a flexible schema.\n",
    "2. **Large Scale Data**: When dealing with large volumes of unstructured or semi-structured data.\n",
    "3. **High Write Load**: When there is a need for high-speed, high-throughput data ingestion.\n",
    "4. **Horizontal Scalability**: When horizontal scaling and distributed data across multiple servers are needed.\n",
    "5. **Agile Development**: When rapid development and iteration are prioritized, allowing the schema to evolve without major disruptions.\n",
    "6. **Complex Data Types**: When storing complex data types that don't fit well into a tabular format, such as arrays and nested objects.\n"
   ]
  },
  {
   "cell_type": "markdown",
   "id": "3cd48e0b-cddf-4dbc-9959-057e1bf05142",
   "metadata": {},
   "source": [
    "### Q2. State and Explain the features of MongoDB."
   ]
  },
  {
   "cell_type": "markdown",
   "id": "f09bb1fb-2828-4fdc-86b4-5e6c2fdb016e",
   "metadata": {},
   "source": [
    "#### A2. Key Features of MongoDB:\n",
    "\n",
    "1. **Document-Oriented Storage**:\n",
    "   - Flexible schema with JSON-like BSON documents.\n",
    "   - Supports nested documents and arrays.\n",
    "\n",
    "2. **High Performance**:\n",
    "   - Various indexing options for fast queries.\n",
    "   - In-memory processing enhancements.\n",
    "\n",
    "3. **Scalability**:\n",
    "   - Horizontal scaling with sharding.\n",
    "   - Replica sets for data redundancy and high availability.\n",
    "\n",
    "4. **Aggregation Framework**:\n",
    "   - Supports complex data processing and transformations.\n",
    "\n",
    "5. **High Availability**:\n",
    "   - Automatic failover with replica sets.\n",
    "\n",
    "6. **Geospatial Indexes and Queries**:\n",
    "   - Efficient handling of location-based data.\n",
    "\n",
    "7. **Rich Query Language**:\n",
    "   - Ad-hoc queries with support for range, regex, and field-specific searches.\n",
    "\n",
    "8. **Load Balancing**:\n",
    "   - Even distribution of data and operations across shards.\n",
    "\n",
    "9. **File Storage**:\n",
    "   - GridFS for storing and retrieving large files.\n",
    "\n",
    "10. **Transactions**:\n",
    "    - Multi-document ACID transactions.\n",
    "\n",
    "11. **Security**:\n",
    "    - Authentication, authorization, and encryption.\n",
    "\n",
    "12. **Compatibility and Integration**:\n",
    "    - Drivers for major programming languages.\n",
    "    - Tools like MongoDB Compass, Atlas, and Stitch for enhanced functionality.\n",
    "\n",
    "MongoDB combines flexibility, performance, and scalability, making it ideal for diverse and dynamic application needs."
   ]
  },
  {
   "cell_type": "markdown",
   "id": "934774f2-f3f4-4a15-9a7a-daf62d44a83e",
   "metadata": {},
   "source": [
    "### Q3. Write a code to connect MongoDB to Python. Also, create a database and a collection in MongoDB."
   ]
  },
  {
   "cell_type": "code",
   "execution_count": 1,
   "id": "59a8b0de-3746-4360-9713-c3a241e94cee",
   "metadata": {},
   "outputs": [
    {
     "name": "stdout",
     "output_type": "stream",
     "text": [
      "Defaulting to user installation because normal site-packages is not writeable\n",
      "Collecting pymongo\n",
      "  Downloading pymongo-4.8.0-cp311-cp311-win_amd64.whl.metadata (22 kB)\n",
      "Collecting dnspython<3.0.0,>=1.16.0 (from pymongo)\n",
      "  Downloading dnspython-2.6.1-py3-none-any.whl.metadata (5.8 kB)\n",
      "Downloading pymongo-4.8.0-cp311-cp311-win_amd64.whl (630 kB)\n",
      "   ---------------------------------------- 0.0/631.0 kB ? eta -:--:--\n",
      "   --------- ------------------------------ 153.6/631.0 kB 4.6 MB/s eta 0:00:01\n",
      "   -------------------------------------- - 604.2/631.0 kB 9.6 MB/s eta 0:00:01\n",
      "   ---------------------------------------- 631.0/631.0 kB 6.7 MB/s eta 0:00:00\n",
      "Downloading dnspython-2.6.1-py3-none-any.whl (307 kB)\n",
      "   ---------------------------------------- 0.0/307.7 kB ? eta -:--:--\n",
      "   ---------------------------------------- 307.7/307.7 kB 9.6 MB/s eta 0:00:00\n",
      "Installing collected packages: dnspython, pymongo\n",
      "Successfully installed dnspython-2.6.1 pymongo-4.8.0\n",
      "Note: you may need to restart the kernel to use updated packages.\n"
     ]
    }
   ],
   "source": [
    "pip install pymongo"
   ]
  },
  {
   "cell_type": "markdown",
   "id": "3f31a7c7-a974-4693-9c64-1306811da8a5",
   "metadata": {},
   "source": [
    "from pymongo import MongoClient\n",
    "\n",
    "#Step 1: Connect to MongoDB <br>\n",
    "client = MongoClient(\"mongodb://localhost:27017/\")  # Adjust the URI as needed\n",
    "\n",
    "#Step 2: Create or Access a Database <br>\n",
    "database = client[\"mydatabase\"]  # 'mydatabase' will be created if it does not exist\n",
    "\n",
    "#Step 3: Create or Access a Collection <br>\n",
    "collection = database[\"mycollection\"]  # 'mycollection' will be created if it does not exist\n",
    "\n",
    "#Step 4: Insert a sample document to verify the connection and creation <br>\n",
    "sample_document = {\"name\": \"John Doe\", \"age\": 30, \"city\": \"New York\"} <br>\n",
    "collection.insert_one(sample_document)\n",
    "\n",
    "#Print the inserted document ID <br>\n",
    "print(\"Sample document inserted with ID:\", sample_document[\"_id\"])\n",
    "\n",
    "#Verify the document insertion <br>\n",
    "retrieved_document = collection.find_one({\"name\": \"John Doe\"}) <br>\n",
    "print(\"Retrieved document:\", retrieved_document)\n"
   ]
  },
  {
   "cell_type": "markdown",
   "id": "97adfe59-caac-419f-a372-b20089babc9b",
   "metadata": {},
   "source": [
    "### Q4. Using the database and the collection created in question number 3, write a code to insert one record, and insert many records. Use the find() and find_one() methods to print the inserted record."
   ]
  },
  {
   "cell_type": "markdown",
   "id": "9290994b-83c3-4506-a630-ee5318773b5b",
   "metadata": {},
   "source": [
    "from pymongo import MongoClient\n",
    "\n",
    "#Connect to MongoDB <br>\n",
    "client = MongoClient(\"mongodb://localhost:27017/\")\n",
    "\n",
    "#Access the database and collection <br>\n",
    "database = client[\"mydatabase\"] <br>\n",
    "collection = database[\"mycollection\"]\n",
    "\n",
    "#Insert one record <br>\n",
    "one_record = {\"name\": \"Alice Smith\", \"age\": 25, \"city\": \"Los Angeles\"}\n",
    "insert_one_result = collection.insert_one(one_record)\n",
    "\n",
    "#Print the inserted record ID <br>\n",
    "print(\"Inserted one record with ID:\", insert_one_result.inserted_id)\n",
    "\n",
    "#Use find_one() to retrieve and print the inserted record <br>\n",
    "retrieved_one_record = collection.find_one({\"name\": \"Alice Smith\"}) <br>\n",
    "print(\"Retrieved one record:\", retrieved_one_record)\n",
    "\n",
    "#Insert many records <br>\n",
    "many_records = [\n",
    "    {\"name\": \"Bob Johnson\", \"age\": 27, \"city\": \"Chicago\"},\n",
    "    {\"name\": \"Charlie Brown\", \"age\": 22, \"city\": \"San Francisco\"},\n",
    "    {\"name\": \"David Williams\", \"age\": 32, \"city\": \"Boston\"}\n",
    "] <br>\n",
    "insert_many_result = collection.insert_many(many_records)\n",
    " \n",
    "#Print the inserted record IDs <br>\n",
    "print(\"Inserted many records with IDs:\", insert_many_result.inserted_ids)\n",
    "\n",
    "#Use find() to retrieve and print all inserted records <br>\n",
    "retrieved_many_records = collection.find() <br>\n",
    "print(\"Retrieved many records:\") <br> \n",
    "for record in retrieved_many_records: <br>\n",
    "    print(record)\n",
    "\n",
    "\n"
   ]
  },
  {
   "cell_type": "markdown",
   "id": "7dc4a861-b656-486e-a72e-63b17054336d",
   "metadata": {},
   "source": [
    "### Q5. Explain how you can use the find() method to query the MongoDB database. Write a simple code to demonstrate this."
   ]
  },
  {
   "cell_type": "markdown",
   "id": "1b558b66-702f-4c55-a12a-0cc1b57f6f7c",
   "metadata": {},
   "source": [
    "The find() method in MongoDB is used to query documents from a collection. It returns a cursor to the documents that match the query criteria, which can then be iterated over to access the individual documents. You can use various query operators to filter the results, project specific fields, sort the results, and limit the number of documents returned."
   ]
  },
  {
   "cell_type": "markdown",
   "id": "0f5f2ad9-87fe-4157-be66-3345ec85736e",
   "metadata": {},
   "source": [
    "from pymongo import MongoClient\n",
    "\n",
    "#Connect to MongoDB <br>\n",
    "client = MongoClient(\"mongodb://localhost:27017/\") <br>\n",
    "database = client[\"mydatabase\"] <br>\n",
    "collection = database[\"mycollection\"]\n",
    "\n",
    "#Insert sample records <br>\n",
    "sample_records = [\n",
    "    {\"name\": \"Alice Smith\", \"age\": 25, \"city\": \"Los Angeles\"},\n",
    "    {\"name\": \"Bob Johnson\", \"age\": 27, \"city\": \"Chicago\"},\n",
    "    {\"name\": \"Charlie Brown\", \"age\": 22, \"city\": \"San Francisco\"},\n",
    "    {\"name\": \"David Williams\", \"age\": 32, \"city\": \"Boston\"},\n",
    "    {\"name\": \"Eve Adams\", \"age\": 29, \"city\": \"New York\"}\n",
    "] <br>\n",
    "collection.insert_many(sample_records)\n",
    "\n",
    "#Simple Query: Retrieve all documents <br>\n",
    "print(\"All records:\") <br>\n",
    "for record in collection.find(): <br>\n",
    "    print(record)\n",
    "\n",
    "#Filtered Query: Retrieve documents where age is greater than 25 <br>\n",
    "print(\"\\nRecords where age is greater than 25:\") <br>\n",
    "for record in collection.find({\"age\": {\"$gt\": 25}}): <br>\n",
    "    print(record)\n",
    "\n",
    "#Projection: Retrieve only the name and city fields <br>\n",
    "print(\"\\nNames and cities only:\") <br>\n",
    "for record in collection.find({}, {\"name\": 1, \"city\": 1, \"_id\": 0}): <br>\n",
    "    print(record)\n",
    "\n",
    "#Sorting: Retrieve documents sorted by age in descending order <br>\n",
    "print(\"\\nRecords sorted by age (descending):\") <br>\n",
    "for record in collection.find().sort(\"age\", -1): <br>\n",
    "    print(record)\n",
    "\n",
    "#Limiting: Retrieve only the first 3 documents <br>\n",
    "print(\"\\nFirst 3 records:\") <br>\n",
    "for record in collection.find().limit(3): <br>\n",
    "    print(record)\n"
   ]
  },
  {
   "cell_type": "markdown",
   "id": "42ac0108-7534-43ad-8236-b623acf42a3e",
   "metadata": {},
   "source": [
    "### Q6. Explain the sort() method. Give an example to demonstrate sorting in MongoDB."
   ]
  },
  {
   "cell_type": "markdown",
   "id": "6b1b8c34-0c52-4540-8a3e-5ae988c9c69b",
   "metadata": {},
   "source": [
    "The sort() method in MongoDB is used to sort the documents in the result set of a query. You can sort the documents based on one or more fields in ascending or descending order.<br> \n",
    "**Syntax:**\n",
    "collection.find(query).sort(field, direction)\r\n"
   ]
  },
  {
   "cell_type": "markdown",
   "id": "c107f674-5ef9-4d98-a11f-92be736c9624",
   "metadata": {},
   "source": [
    "from pymongo import MongoClient\n",
    "\n",
    "#Connect to MongoDB <br>\n",
    "client = MongoClient(\"mongodb://localhost:27017/\") <br>\n",
    "database = client[\"mydatabase\"] <br>\n",
    "collection = database[\"mycollection\"]\n",
    "\n",
    "#Insert sample records <br>\n",
    "sample_records = [\n",
    "    {\"name\": \"Alice Smith\", \"age\": 25, \"city\": \"Los Angeles\"},\n",
    "    {\"name\": \"Bob Johnson\", \"age\": 27, \"city\": \"Chicago\"},\n",
    "    {\"name\": \"Charlie Brown\", \"age\": 22, \"city\": \"San Francisco\"},\n",
    "    {\"name\": \"David Williams\", \"age\": 32, \"city\": \"Boston\"},\n",
    "    {\"name\": \"Eve Adams\", \"age\": 29, \"city\": \"New York\"}\n",
    "] <br>\n",
    "collection.insert_many(sample_records)\n",
    "\n",
    "#Sort documents by age in ascending order <br>\n",
    "sorted_records_asc = collection.find().sort(\"age\", 1) <br>\n",
    "print(\"Records sorted by age (ascending):\") <br>\n",
    "for record in sorted_records_asc: <br>\n",
    "    print(record) \n",
    "\n",
    "#Sort documents by age in descending order <br>\n",
    "sorted_records_desc = collection.find().sort(\"age\", -1) <br>\n",
    "print(\"\\nRecords sorted by age (descending):\") <br>\n",
    "for record in sorted_records_desc: <br>\n",
    "    print(record)\n"
   ]
  },
  {
   "cell_type": "markdown",
   "id": "e8411c2a-05e6-4e5f-afb1-44e21e792327",
   "metadata": {},
   "source": [
    "### Q7. Explain why delete_one(), delete_many(), and drop() is used."
   ]
  },
  {
   "cell_type": "markdown",
   "id": "e080746c-11ab-4310-ab12-f04f333edd3e",
   "metadata": {},
   "source": [
    "from pymongo import MongoClient\n",
    "\n",
    "#Connect to MongoDB <br>\n",
    "client = MongoClient(\"mongodb://localhost:27017/\") <br>\n",
    "database = client[\"mydatabase\"] <br>\n",
    "collection = database[\"mycollection\"]\n",
    "\n",
    "#Insert sample records <br>\n",
    "sample_records = [\n",
    "    {\"name\": \"Alice Smith\", \"age\": 25, \"city\": \"Los Angeles\"},\n",
    "    {\"name\": \"Bob Johnson\", \"age\": 27, \"city\": \"Chicago\"},\n",
    "    {\"name\": \"Charlie Brown\", \"age\": 22, \"city\": \"San Francisco\"},\n",
    "    {\"name\": \"David Williams\", \"age\": 32, \"city\": \"Boston\"},\n",
    "    {\"name\": \"Eve Adams\", \"age\": 29, \"city\": \"New York\"}\n",
    "] <br>\n",
    "collection.insert_many(sample_records)\n",
    "\n",
    "#delete_one(): Delete a single document where the name is \"Alice Smith\" <br>\n",
    "result_one = collection.delete_one({\"name\": \"Alice Smith\"}) <br>\n",
    "print(f\"Documents deleted by delete_one: {result_one.deleted_count}\") <br>\n",
    "\n",
    "#delete_many(): Delete all documents where the age is greater than 25 <br>\n",
    "result_many = collection.delete_many({\"age\": {\"$gt\": 25}}) <br>\n",
    "print(f\"Documents deleted by delete_many: {result_many.deleted_count}\") <br>\n",
    "\n",
    "#drop(): Drop the entire collection <br>\n",
    "collection.drop() <br>\n",
    "print(\"Collection dropped\")\n"
   ]
  },
  {
   "cell_type": "code",
   "execution_count": null,
   "id": "00831bd7-d0c1-4b93-9ab0-9cc395495ebc",
   "metadata": {},
   "outputs": [],
   "source": []
  }
 ],
 "metadata": {
  "kernelspec": {
   "display_name": "Python 3 (ipykernel)",
   "language": "python",
   "name": "python3"
  },
  "language_info": {
   "codemirror_mode": {
    "name": "ipython",
    "version": 3
   },
   "file_extension": ".py",
   "mimetype": "text/x-python",
   "name": "python",
   "nbconvert_exporter": "python",
   "pygments_lexer": "ipython3",
   "version": "3.11.7"
  }
 },
 "nbformat": 4,
 "nbformat_minor": 5
}
