{
 "cells": [
  {
   "cell_type": "markdown",
   "id": "4bd4c1aa-0fce-45a9-9df2-918fff8ccfa8",
   "metadata": {},
   "source": [
    "### Q1. What is multiprocessing in python? Why is it useful?"
   ]
  },
  {
   "cell_type": "markdown",
   "id": "02c7b178-b9fd-4e1d-b1e8-ece7b3957ad5",
   "metadata": {},
   "source": [
    "#### A1.\n",
    "\n",
    "Multiprocessing in Python refers to the ability to run multiple processes simultaneously, each on a separate CPU core, to execute tasks in parallel. This is in contrast to multithreading, where threads run in the same process and share the same memory space.\n",
    "\n",
    "Python provides a `multiprocessing` module which supports the spawning of processes using an API similar to the `threading` module. The `multiprocessing` module allows you to create programs that leverage multiple processors on a machine, which is particularly useful for CPU-bound tasks.\n",
    "\n",
    "### Why is Multiprocessing Useful?\n",
    "\n",
    "1. **Overcomes GIL (Global Interpreter Lock):**\n",
    "   - Python's Global Interpreter Lock (GIL) prevents multiple native threads from executing Python bytecodes simultaneously in the same process. This can be a bottleneck for CPU-bound programs. Multiprocessing sidesteps the GIL by using separate processes instead of threads.\n",
    "\n",
    "2. **Parallel Execution:**\n",
    "   - By running multiple processes in parallel, you can take advantage of multiple CPU cores, thereby reducing the execution time of CPU-bound tasks.\n",
    "\n",
    "3. **Improved Performance for CPU-bound Tasks:**\n",
    "   - Tasks that require a lot of computation (e.g., mathematical calculations, data processing) can benefit significantly from multiprocessing because each process can run on a separate core.\n",
    "\n",
    "4. **Isolation:**\n",
    "   - Each process runs in its own memory space, providing isolation. This can lead to more robust programs since processes do not share memory and thus avoid issues like race conditions.\n",
    "\n",
    "5. **Scalability:**\n",
    "   - Multiprocessing can scale better with the number of CPU cores available on the machine. As you add more cores, you can spawn more processes to handle tasks concurrently.\n"
   ]
  },
  {
   "cell_type": "markdown",
   "id": "620f111b-dfcd-4c80-b372-071fa4558a50",
   "metadata": {},
   "source": [
    "### Q2. What are the differences between multiprocessing and multithreading?"
   ]
  },
  {
   "cell_type": "markdown",
   "id": "22de64c4-12ec-4171-9936-275d76708b27",
   "metadata": {},
   "source": [
    "#### Differences Between Multiprocessing and Multithreading\n",
    "\n",
    "\n",
    "| Feature                | Multiprocessing                           | Multithreading                        |\n",
    "|------------------------|-------------------------------------------|---------------------------------------|\n",
    "| Execution Model        | Multiple processes, each with its own memory space | Multiple threads within the same process |\n",
    "| GIL Impact             | Bypasses GIL                              | Affected by GIL                       |\n",
    "| Ideal Use Case         | CPU-bound tasks                           | I/O-bound tasks                       |\n",
    "| Resource Utilization   | Higher memory usage, more resource-intensive process creation | Lower memory usage, less resource-intensive thread creation |\n",
    "| Isolation              | Isolated processes                        | Shared memory space                   |\n",
    "| Data Sharing           | Through IPC (pipes, queues, shared memory)| Shared variables, requires synchronization |\n",
    "| Complexity             | Simpler to avoid race conditions, but harder data sharing | Easier data sharing, but requires careful synchronization |\n",
    "\n"
   ]
  },
  {
   "cell_type": "markdown",
   "id": "419079c3-724a-4005-a828-e0c91b59d73f",
   "metadata": {},
   "source": [
    "### Q3. Write a python code to create a process using the multiprocessing module."
   ]
  },
  {
   "cell_type": "code",
   "execution_count": 2,
   "id": "f35269fd-ae2e-48a5-a30b-2522d2f71bab",
   "metadata": {},
   "outputs": [
    {
     "name": "stdout",
     "output_type": "stream",
     "text": [
      "Main process is finished.\n"
     ]
    }
   ],
   "source": [
    "import multiprocessing\n",
    "import time\n",
    "\n",
    "def worker_function(name):\n",
    "    \"\"\"Function to be executed by the process.\"\"\"\n",
    "    print(f'Process {name} is starting.')\n",
    "    time.sleep(2)  # Simulate some work with a sleep\n",
    "    print(f'Process {name} is finished.')\n",
    "\n",
    "if __name__ == '__main__':\n",
    "    # Create a process\n",
    "    process = multiprocessing.Process(target=worker_function, args=('Worker1',))\n",
    "    \n",
    "    # Start the process\n",
    "    process.start()\n",
    "    \n",
    "    # Wait for the process to complete\n",
    "    process.join()\n",
    "    \n",
    "    print('Main process is finished.')\n"
   ]
  },
  {
   "cell_type": "markdown",
   "id": "4caedbbe-bc1b-4d34-b3ce-e3b6b167c4be",
   "metadata": {},
   "source": [
    "### Q4. What is a multiprocessing pool in python? Why is it used?"
   ]
  },
  {
   "cell_type": "markdown",
   "id": "6f1990d3-1faf-4773-a617-2ee39e6fd8be",
   "metadata": {},
   "source": [
    "#### Multiprocessing Pool in Python:\n",
    "\n",
    "A multiprocessing pool in Python is a convenient way to parallelize the execution of a function across multiple input values using multiple processes. The `Pool` class in the `multiprocessing` module provides a simple way to manage a pool of worker processes and distribute tasks among them.\n",
    "\n",
    "#### Why is it Used?\n",
    "\n",
    "1. **Parallel Execution:**\n",
    "   - It allows for the parallel execution of functions across multiple input values, leveraging multiple CPU cores for faster computation.\n",
    "\n",
    "2. **Efficient Resource Management:**\n",
    "   - The `Pool` class manages a fixed number of processes (worker pool), which can be more efficient than creating and destroying processes repeatedly.\n",
    "\n",
    "3. **Simplified Code:**\n",
    "   - It abstracts the complexity of process creation and management, providing a simple interface for parallel execution.\n",
    "\n",
    "4. **Automatic Load Balancing:**\n",
    "   - The pool automatically distributes the workload among the available worker processes, balancing the load efficiently.\n"
   ]
  },
  {
   "cell_type": "markdown",
   "id": "dd105e30-d4fb-4ebf-a886-94e940c82960",
   "metadata": {},
   "source": [
    "### Q5. How can we create a pool of worker processes in python using the multiprocessing module?"
   ]
  },
  {
   "cell_type": "code",
   "execution_count": null,
   "id": "96f72b0c-5d4b-4d7a-ae6b-f8ec3b33cef8",
   "metadata": {},
   "outputs": [],
   "source": [
    "import multiprocessing\n",
    "\n",
    "def worker_function(x):\n",
    "    return x * x\n",
    "\n",
    "if __name__ == '__main__':\n",
    "    # Create a pool of worker processes\n",
    "    pool = multiprocessing.Pool(processes=4)\n",
    "    \n",
    "    # Define a list of input values\n",
    "    inputs = [1, 2, 3, 4, 5]\n",
    "    \n",
    "    # Use the pool to map the worker function to the input values\n",
    "    results = pool.map(worker_function, inputs)\n",
    "    \n",
    "    # Close the pool and wait for the work to finish\n",
    "    pool.close()\n",
    "    pool.join()\n",
    "    \n",
    "    # Print the results\n",
    "    print(results)\n"
   ]
  },
  {
   "cell_type": "markdown",
   "id": "0d140a96-7869-4f9b-8d4e-279d2cd76eaa",
   "metadata": {},
   "source": [
    "### Q6. Write a python program to create 4 processes, each process should print a different number using the multiprocessing module in python."
   ]
  },
  {
   "cell_type": "code",
   "execution_count": null,
   "id": "724e2c04-ad72-46e2-96c3-6ab72020a567",
   "metadata": {},
   "outputs": [],
   "source": [
    "import multiprocessing\n",
    "\n",
    "def print_number(number):\n",
    "    \"\"\"Function to print a number.\"\"\"\n",
    "    print(f'Process ID: {multiprocessing.current_process().pid} - Number: {number}')\n",
    "\n",
    "if __name__ == '__main__':\n",
    "    # List of numbers to print\n",
    "    numbers = [1, 2, 3, 4]\n",
    "    \n",
    "    # List to hold process objects\n",
    "    processes = []\n",
    "\n",
    "    # Create and start processes\n",
    "    for number in numbers:\n",
    "        process = multiprocessing.Process(target=print_number, args=(number,))\n",
    "        processes.append(process)\n",
    "        process.start()\n",
    "\n",
    "    # Wait for all processes to complete\n",
    "    for process in processes:\n",
    "        process.join()\n",
    "\n",
    "    print('All processes have finished.')\n"
   ]
  },
  {
   "cell_type": "code",
   "execution_count": null,
   "id": "e4fc3df6-f950-482c-80d7-d777e51999e5",
   "metadata": {},
   "outputs": [],
   "source": []
  }
 ],
 "metadata": {
  "kernelspec": {
   "display_name": "Python 3 (ipykernel)",
   "language": "python",
   "name": "python3"
  },
  "language_info": {
   "codemirror_mode": {
    "name": "ipython",
    "version": 3
   },
   "file_extension": ".py",
   "mimetype": "text/x-python",
   "name": "python",
   "nbconvert_exporter": "python",
   "pygments_lexer": "ipython3",
   "version": "3.11.7"
  }
 },
 "nbformat": 4,
 "nbformat_minor": 5
}
