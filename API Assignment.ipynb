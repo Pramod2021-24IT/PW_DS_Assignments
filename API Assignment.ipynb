{
 "cells": [
  {
   "cell_type": "markdown",
   "id": "9532ae1c-59b8-41f5-8f66-7ea26e4dee2e",
   "metadata": {},
   "source": [
    "### Q1. What is an API? Give an example, where an API is used in real life."
   ]
  },
  {
   "cell_type": "markdown",
   "id": "f440a724-9d97-4119-9e30-c25e4e3b9035",
   "metadata": {},
   "source": [
    "\n",
    "import requests\n",
    "\n",
    "##### #API endpoint and API key\n",
    "api_endpoint = \"https://maps.googleapis.com/maps/api/distancematrix/json\"\n",
    "api_key = \"YOUR_API_KEY\"\n",
    "\n",
    "##### #Parameters for the API request\n",
    "params = {\n",
    "    \"origins\": \"New York, NY\",\n",
    "    \"destinations\": \"Los Angeles, CA\",\n",
    "    \"key\": api_key\n",
    "}\n",
    "\n",
    "##### #Making the request to the Google Maps API\n",
    "response = requests.get(api_endpoint, params=params)\n",
    "\n",
    "##### #Parsing the response\n",
    "data = response.json()\n",
    "\n",
    "##### #Extracting and printing the distance information\n",
    "distance = data[\"rows\"][0][\"elements\"][0][\"distance\"][\"text\"]\n",
    "duration = data[\"rows\"][0][\"elements\"][0][\"duration\"][\"text\"]\n",
    "\n",
    "print(f\"Distance: {distance}\")\n",
    "print(f\"Duration: {duration}\")\n"
   ]
  },
  {
   "cell_type": "markdown",
   "id": "feb1490e-e378-4f9d-8645-685569178285",
   "metadata": {},
   "source": [
    "### Q2. Give advantages and disadvantages of using API."
   ]
  },
  {
   "cell_type": "markdown",
   "id": "25af955e-afb5-49ab-a8ec-ceeff3792341",
   "metadata": {},
   "source": [
    "#### Advantages of Using APIs\n",
    "\n",
    "1. **Automation**: Reduces manual tasks.\n",
    "   - **Example**: Automates data retrieval and submission.\n",
    "\n",
    "2. **Integration**: Enables seamless system integration.\n",
    "   - **Example**: Payment gateways in e-commerce.\n",
    "\n",
    "3. **Scalability**: Supports modular and scalable systems.\n",
    "   - **Example**: Microservices architecture.\n",
    "\n",
    "4. **Efficiency**: Leverages existing functionalities.\n",
    "   - **Example**: Travel sites fetching flight and hotel info.\n",
    "\n",
    "5. **Innovation**: Facilitates new application development.\n",
    "   - **Example**: Apps using social media APIs.\n",
    "\n",
    "6. **Data Accessibility**: Provides access to various data sources.\n",
    "   - **Example**: Weather apps accessing real-time data.\n",
    "\n",
    "#### Disadvantages of Using APIs\n",
    "\n",
    "1. **Security Risks**: Potential vulnerabilities if not secured.\n",
    "   - **Example**: Inadequate authentication can lead to data breaches.\n",
    "\n",
    "2. **Complexity**: Implementation and maintenance can be complex.\n",
    "   - **Example**: Handling multiple third-party APIs.\n",
    "\n",
    "3. **Dependency**: Reliance on third-party services.\n",
    "   - **Example**: Service disruptions if an API provider changes.\n",
    "\n",
    "4. **Performance Issues**: Latency and reliability concerns.\n",
    "   - **Example**: Slow API responses affecting application performance.\n",
    "\n",
    "5. **Versioning Problems**: Compatibility issues with updates.\n",
    "   - **Example**: Code changes needed for new API versions.\n",
    "\n",
    "6. **Costs**: Potentially high usage costs.\n",
    "   - **Example**: Charges for API calls from cloud service providers."
   ]
  },
  {
   "cell_type": "markdown",
   "id": "8a782507-3fa3-4162-8fdc-fe3f1fbbd39c",
   "metadata": {},
   "source": [
    "### Q3. What is a Web API? Differentiate between API and Web API."
   ]
  },
  {
   "cell_type": "markdown",
   "id": "51d6c6cb-f3cd-47cc-a93e-0bc7f66ad05e",
   "metadata": {},
   "source": [
    "**Web API** (Web Application Programming Interface) is an API specifically designed to be accessed over the web using standard web protocols, primarily HTTP/HTTPS. It allows different applications or services to interact with each other over the internet by using web-based communication methods.\n",
    "\n",
    "#### Characteristics of a Web API\n",
    "\n",
    "- **Protocol**: Utilizes HTTP/HTTPS protocols for communication.\n",
    "- **Data Formats**: Typically exchanges data in formats like JSON or XML.\n",
    "- **Accessibility**: Can be accessed over the internet or an intranet.\n",
    "- **Endpoints**: Defined by URLs to which requests are made.\n",
    "\n",
    "#### Differences Between API and Web API\n",
    "\n",
    "| **Aspect**          | **API**                                             | **Web API**                                        |\n",
    "|---------------------|-----------------------------------------------------|----------------------------------------------------|\n",
    "| **Definition**      | A general term for any interface that allows software to communicate. | A type of API specifically accessed over the web using HTTP/HTTPS. |\n",
    "| **Protocols**       | Can use various protocols (e.g., HTTP, TCP/IP, etc.). | Primarily uses HTTP/HTTPS.                         |\n",
    "| **Communication**   | Can be local (within the same system) or remote.   | Always remote, accessed over a network.           |\n",
    "| **Data Formats**    | Can use various formats (binary, text, etc.).      | Commonly uses JSON or XML.                        |\n",
    "| **Access**          | May require specific libraries or SDKs.            | Accessible via standard web requests and can be used in any programming language that supports HTTP. |\n",
    "| **Usage**           | General-purpose for inter-software communication.  | Designed for web services and web applications.    |\n",
    "| **Authentication**  | Can be complex, depending on the implementation.   | Often uses standard web authentication methods like OAuth, API keys, etc. |\n",
    "| **Example**         | A library providing functions to interact with a database. | RESTful API provided by a web service to access user data. |\n",
    "\n"
   ]
  },
  {
   "cell_type": "markdown",
   "id": "d2451a01-1ef6-437b-bf3c-84d1acbfe102",
   "metadata": {},
   "source": [
    "### Q4. Explain REST and SOAP Architecture. Mention shortcomings of SOAP."
   ]
  },
  {
   "cell_type": "markdown",
   "id": "86dc7171-ec39-412c-a973-37a3eb035d69",
   "metadata": {},
   "source": [
    "### REST vs. SOAP\n",
    "\n",
    "**REST (Representational State Transfer)**:\n",
    "- **Architecture Style**: Uses HTTP methods (GET, POST, PUT, DELETE).\n",
    "- **Data Format**: Typically JSON, XML.\n",
    "- **Characteristics**: Stateless, resource-based, flexible, lightweight.\n",
    "- **Use Cases**: Web and mobile applications, services with high scalability needs.\n",
    "\n",
    "**SOAP (Simple Object Access Protocol)**:\n",
    "- **Protocol**: Uses XML for messages.\n",
    "- **Data Format**: XML.\n",
    "- **Characteristics**: Strict standards, stateful or stateless, uses WSDL.\n",
    "- **Use Cases**: Enterprise-level applications requiring strict security and formal contracts.\n",
    "\n",
    "**Shortcomings of SOAP**:\n",
    "- **Complexity**: XML-based with rigid structure.\n",
    "- **Performance Overhead**: Larger message sizes and slower parsing.\n",
    "- **Less Flexibility**: Strict standards and rigid formats.\n",
    "- **Higher Learning Curve**: More complex to implement and understand.\n",
    "- **Limited Browser Support**: Less suited for direct browser consumption."
   ]
  },
  {
   "cell_type": "markdown",
   "id": "304272ed-cba9-4151-b11f-91ab4239e840",
   "metadata": {},
   "source": [
    "### Q5. Differentiate between REST and SOAP."
   ]
  },
  {
   "cell_type": "markdown",
   "id": "bf9d1a9d-6261-4f08-8dd8-9ed507b906b7",
   "metadata": {},
   "source": [
    "### Differences Between REST and SOAP:\n",
    "\n",
    "| **Aspect**          | **REST**                                         | **SOAP**                                          |\n",
    "|---------------------|--------------------------------------------------|---------------------------------------------------|\n",
    "| **Definition**      | Architectural style for designing networked applications. | Protocol for exchanging structured information using XML. |\n",
    "| **Protocol**        | Uses HTTP/HTTPS.                                | Can use HTTP/HTTPS, SMTP, and other protocols.   |\n",
    "| **Data Format**     | Typically JSON or XML.                          | Always XML.                                      |\n",
    "| **Message Structure** | Lightweight with minimal overhead.              | Heavier with XML-based envelopes and headers.    |\n",
    "| **Stateless/Stateful** | Stateless by default; can be made stateful.     | Can be either stateful or stateless.             |\n",
    "| **Error Handling**  | Application-level error handling.               | Built-in error handling using SOAP faults.       |\n",
    "| **Standards**       | No strict standards; flexible design.           | Strict standards (e.g., WSDL for service description). |\n",
    "| **Security**        | Security is typically handled at the transport layer (e.g., HTTPS). | Provides built-in security through WS-Security. |\n",
    "| **Caching**         | Supports caching using HTTP headers.            | Generally does not support caching.              |\n",
    "| **Complexity**      | Simpler, more flexible.                         | More complex due to strict standards and XML.   |\n",
    "| **Performance**     | Generally faster due to lightweight message formats. | Slower due to larger XML messages and processing overhead. |\n",
    "| **Use Cases**       | Web and mobile applications, public APIs.       | Enterprise-level applications requiring formal contracts and high security. |\n",
    "\n"
   ]
  },
  {
   "cell_type": "code",
   "execution_count": null,
   "id": "8403e8e0-6c54-4785-930c-0abb8b519479",
   "metadata": {},
   "outputs": [],
   "source": []
  }
 ],
 "metadata": {
  "kernelspec": {
   "display_name": "Python 3 (ipykernel)",
   "language": "python",
   "name": "python3"
  },
  "language_info": {
   "codemirror_mode": {
    "name": "ipython",
    "version": 3
   },
   "file_extension": ".py",
   "mimetype": "text/x-python",
   "name": "python",
   "nbconvert_exporter": "python",
   "pygments_lexer": "ipython3",
   "version": "3.11.7"
  }
 },
 "nbformat": 4,
 "nbformat_minor": 5
}
