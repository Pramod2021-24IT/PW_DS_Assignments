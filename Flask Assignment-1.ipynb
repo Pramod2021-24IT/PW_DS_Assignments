{
 "cells": [
  {
   "cell_type": "markdown",
   "id": "48fd4534-8c04-404c-8d4c-4c7052771d8c",
   "metadata": {},
   "source": [
    "### Q1. What is Flask Framework? What are the advantages of Flask Framework?"
   ]
  },
  {
   "cell_type": "markdown",
   "id": "aff1459a-0d97-4d8e-86ce-40a496fcc837",
   "metadata": {},
   "source": [
    "#### Flask Framework?\n",
    "\n",
    "Flask is a micro web framework for Python, designed to be simple, lightweight, and easy to use. It provides the essential tools needed to build web applications, such as routing, request handling, and templating, without the overhead of more extensive frameworks. Flask is known for its flexibility, allowing developers to choose the components they need and add extensions as required.\n",
    "\n",
    "#### Advantages of Flask Framework\n",
    "\n",
    "1. **Simplicity and Ease of Use**: Flask is straightforward to set up and use, making it an excellent choice for beginners and small projects. Its minimalistic approach allows developers to quickly create and deploy web applications.\n",
    "\n",
    "2. **Flexibility**: Flask provides the freedom to structure applications as desired. Developers can use any database, templating engine, or other components, leading to a high degree of customization.\n",
    "\n",
    "3. **Extensible**: Although minimalistic by design, Flask can be extended with a variety of plugins and extensions, adding features such as database integration, form handling, authentication, and more.\n",
    "\n",
    "4. **Lightweight**: Flask is a lightweight framework with a small footprint. It avoids the complexity and overhead of larger frameworks, leading to faster performance and reduced memory usage.\n",
    "\n",
    "5. **Strong Community and Documentation**: Flask has a strong and active community, providing extensive documentation, tutorials, and third-party libraries, which can help developers quickly find solutions and learn best practices.\n",
    "\n",
    "6. **Built-in Development Server and Debugger**: Flask comes with a built-in development server and an interactive debugger, making it easier to test and debug applications during the development process.\n"
   ]
  },
  {
   "cell_type": "markdown",
   "id": "97372ab1-9353-473b-b6d3-7d546124dd0f",
   "metadata": {},
   "source": [
    "### Q2. Create a simple Flask application to display ‘Hello World!!’. Attach the screenshot of the output in Jupyter Notebook."
   ]
  },
  {
   "cell_type": "code",
   "execution_count": 1,
   "id": "c35ba441-8c55-4bb2-8274-69ba0fd787d8",
   "metadata": {},
   "outputs": [
    {
     "name": "stdout",
     "output_type": "stream",
     "text": [
      "Requirement already satisfied: flask in d:\\softwares\\lib\\site-packages (3.0.3)\n",
      "Requirement already satisfied: Werkzeug>=3.0.0 in d:\\softwares\\lib\\site-packages (from flask) (3.0.3)\n",
      "Requirement already satisfied: Jinja2>=3.1.2 in d:\\softwares\\lib\\site-packages (from flask) (3.1.4)\n",
      "Requirement already satisfied: itsdangerous>=2.1.2 in d:\\softwares\\lib\\site-packages (from flask) (2.2.0)\n",
      "Requirement already satisfied: click>=8.1.3 in d:\\softwares\\lib\\site-packages (from flask) (8.1.7)\n",
      "Requirement already satisfied: blinker>=1.6.2 in d:\\softwares\\lib\\site-packages (from flask) (1.6.2)\n",
      "Requirement already satisfied: colorama in d:\\softwares\\lib\\site-packages (from click>=8.1.3->flask) (0.4.6)\n",
      "Requirement already satisfied: MarkupSafe>=2.0 in d:\\softwares\\lib\\site-packages (from Jinja2>=3.1.2->flask) (2.1.3)\n",
      "Note: you may need to restart the kernel to use updated packages.\n"
     ]
    }
   ],
   "source": [
    "pip install flask"
   ]
  },
  {
   "cell_type": "code",
   "execution_count": null,
   "id": "0c140490-2935-4994-9ad7-9bebc0342087",
   "metadata": {},
   "outputs": [
    {
     "name": "stdout",
     "output_type": "stream",
     "text": [
      " * Serving Flask app '__main__'\n",
      " * Debug mode: off\n"
     ]
    },
    {
     "name": "stderr",
     "output_type": "stream",
     "text": [
      "WARNING: This is a development server. Do not use it in a production deployment. Use a production WSGI server instead.\n",
      " * Running on http://127.0.0.1:5000\n",
      "Press CTRL+C to quit\n",
      "127.0.0.1 - - [28/Jul/2024 09:17:10] \"GET / HTTP/1.1\" 200 -\n"
     ]
    }
   ],
   "source": [
    "# Import the Flask class from the flask module\n",
    "from flask import Flask\n",
    "\n",
    "# Create an instance of the Flask class\n",
    "app = Flask(__name__)\n",
    "\n",
    "# Define a route for the root URL\n",
    "@app.route('/')\n",
    "def hello_world():\n",
    "    return 'Hello World!!'\n",
    "\n",
    "# Run the application\n",
    "if __name__ == '__main__':\n",
    "    app.run()\n"
   ]
  },
  {
   "attachments": {
    "db5e3ef9-6280-48ca-9dc1-741f185fb2f8.png": {
     "image/png": "[encoded data removed]"
    }
   },
   "cell_type": "markdown",
   "id": "d65f1fe9-3813-438e-9310-e2a8672e4f2e",
   "metadata": {},
   "source": [
    "![image.png](attachment:db5e3ef9-6280-48ca-9dc1-741f185fb2f8.png)"
   ]
  },
  {
   "cell_type": "markdown",
   "id": "735c8c5e-89dd-4bc3-a139-d9def343a696",
   "metadata": {},
   "source": [
    "### Q3. What is App routing in Flask? Why do we use app routes?"
   ]
  },
  {
   "cell_type": "markdown",
   "id": "7a3fd1de-c423-4511-9ab8-cde1acb6e91d",
   "metadata": {},
   "source": [
    "**App routing** in Flask refers to the mechanism of defining the URL structure of your web application. When a user visits a specific URL, Flask determines which piece of code (function) should be executed based on the defined routes.\n",
    "\n",
    "In Flask, you use the `@app.route()` decorator to bind a URL to a function. The URL pattern specified in the `@app.route()` decorator determines which function will handle the request for that URL.\n",
    "\n",
    "App routing in Flask is a crucial feature for defining the structure and behavior of your web application. It allows you to map URLs to specific functions, handle different HTTP methods, capture URL parameters, and build modular, maintainable code."
   ]
  },
  {
   "cell_type": "markdown",
   "id": "8e050187-1967-4190-9d1b-c5b75e8cf89d",
   "metadata": {},
   "source": [
    "### Q4. Create a “/welcome” route to display the welcome message “Welcome to ABC Corporation” and a “/” route to show the following details: Company Name: ABC Corporation, Location: India, Contact Detail: 999-999-9999"
   ]
  },
  {
   "cell_type": "code",
   "execution_count": 1,
   "id": "d4d7df91-aec6-4775-8826-837b37454ad7",
   "metadata": {},
   "outputs": [
    {
     "name": "stdout",
     "output_type": "stream",
     "text": [
      " * Serving Flask app '__main__'\n",
      " * Debug mode: on\n"
     ]
    },
    {
     "name": "stderr",
     "output_type": "stream",
     "text": [
      "WARNING: This is a development server. Do not use it in a production deployment. Use a production WSGI server instead.\n",
      " * Running on http://127.0.0.1:5000\n",
      "Press CTRL+C to quit\n",
      " * Restarting with watchdog (windowsapi)\n"
     ]
    },
    {
     "ename": "SystemExit",
     "evalue": "1",
     "output_type": "error",
     "traceback": [
      "An exception has occurred, use %tb to see the full traceback.\n",
      "\u001b[1;31mSystemExit\u001b[0m\u001b[1;31m:\u001b[0m 1\n"
     ]
    },
    {
     "name": "stderr",
     "output_type": "stream",
     "text": [
      "D:\\Softwares\\Lib\\site-packages\\IPython\\core\\interactiveshell.py:3585: UserWarning: To exit: use 'exit', 'quit', or Ctrl-D.\n",
      "  warn(\"To exit: use 'exit', 'quit', or Ctrl-D.\", stacklevel=1)\n"
     ]
    }
   ],
   "source": [
    "from flask import Flask\n",
    "\n",
    "app = Flask(__name__)\n",
    "\n",
    "# Route to display the welcome message\n",
    "@app.route('/welcome')\n",
    "def welcome():\n",
    "    return \"Welcome to ABC Corporation\"\n",
    "\n",
    "# Route to show company details\n",
    "@app.route('/')\n",
    "def company_details():\n",
    "    return \"\"\"\n",
    "    Company Name: ABC Corporation<br>\n",
    "    Location: India<br>\n",
    "    Contact Detail: 999-999-9999\n",
    "    \"\"\"\n",
    "\n",
    "if __name__ == '__main__':\n",
    "    app.run(debug=True)\n"
   ]
  },
  {
   "attachments": {
    "b6504147-d65e-4616-be04-02eba97d5ce0.png": {
     "image/png": "[encoded data removed]"
    }
   },
   "cell_type": "markdown",
   "id": "7dcda921-37f2-4402-883d-7e06d48db4cd",
   "metadata": {},
   "source": [
    "![image.png](attachment:b6504147-d65e-4616-be04-02eba97d5ce0.png)"
   ]
  },
  {
   "cell_type": "markdown",
   "id": "1b54f22f-f60f-4194-936a-ecc6cc739105",
   "metadata": {},
   "source": [
    "### Q5. What function is used in Flask for URL Building? Write a Python code to demonstrate the working of the url_for() function."
   ]
  },
  {
   "cell_type": "code",
   "execution_count": 2,
   "id": "e72d69ad-6a59-45a2-b8a8-815eaceb9c9c",
   "metadata": {},
   "outputs": [
    {
     "name": "stdout",
     "output_type": "stream",
     "text": [
      " * Serving Flask app '__main__'\n",
      " * Debug mode: on\n"
     ]
    },
    {
     "name": "stderr",
     "output_type": "stream",
     "text": [
      "WARNING: This is a development server. Do not use it in a production deployment. Use a production WSGI server instead.\n",
      " * Running on http://127.0.0.1:5000\n",
      "Press CTRL+C to quit\n",
      " * Restarting with watchdog (windowsapi)\n"
     ]
    },
    {
     "ename": "SystemExit",
     "evalue": "1",
     "output_type": "error",
     "traceback": [
      "An exception has occurred, use %tb to see the full traceback.\n",
      "\u001b[1;31mSystemExit\u001b[0m\u001b[1;31m:\u001b[0m 1\n"
     ]
    }
   ],
   "source": [
    "from flask import Flask, render_template, url_for\n",
    "\n",
    "app = Flask(__name__)\n",
    "\n",
    "@app.route('/')\n",
    "def home():\n",
    "    return render_template('index.html')\n",
    "\n",
    "@app.route('/about')\n",
    "def about():\n",
    "    return render_template('about.html')\n",
    "\n",
    "@app.route('/show_urls')\n",
    "def show_urls():\n",
    "    # Using url_for to build URLs for the specified endpoints\n",
    "    home_url = url_for('home')\n",
    "    about_url = url_for('about')\n",
    "\n",
    "    # Creating a response string with the URLs\n",
    "    response = f\"\"\"\n",
    "    Home URL: {home_url}<br>\n",
    "    About URL: {about_url}<br>\n",
    "    \"\"\"\n",
    "    return response\n",
    "\n",
    "if __name__ == '__main__':\n",
    "    app.run(debug=True)\n"
   ]
  },
  {
   "cell_type": "code",
   "execution_count": null,
   "id": "ee8134ae-7b9b-4644-af53-697665ea6179",
   "metadata": {},
   "outputs": [],
   "source": []
  }
 ],
 "metadata": {
  "kernelspec": {
   "display_name": "Python 3 (ipykernel)",
   "language": "python",
   "name": "python3"
  },
  "language_info": {
   "codemirror_mode": {
    "name": "ipython",
    "version": 3
   },
   "file_extension": ".py",
   "mimetype": "text/x-python",
   "name": "python",
   "nbconvert_exporter": "python",
   "pygments_lexer": "ipython3",
   "version": "3.12.4"
  }
 },
 "nbformat": 4,
 "nbformat_minor": 5
}
